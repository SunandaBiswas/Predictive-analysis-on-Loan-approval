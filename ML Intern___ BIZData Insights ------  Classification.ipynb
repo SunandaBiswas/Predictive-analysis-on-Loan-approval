{
 "cells": [
  {
   "cell_type": "markdown",
   "id": "cb8bca33",
   "metadata": {},
   "source": [
    "You are given a CSV file containing **loan data**. This is open-source data. Using this data you have to **produce an ML model for prediction analysis**.\n"
   ]
  },
  {
   "cell_type": "markdown",
   "id": "0fadce83",
   "metadata": {},
   "source": [
    "Here are the things that you need to do:\n",
    "\n",
    "1. Make a Jupyter Notebook file and do exploratory analysis with the given data\n",
    "2. Plot the graph and find out the correlation between the data\n",
    "3. Analyze the data and state a few facts about the data\n",
    "4. Use different ML algorithms to build models and find out their training loss\n",
    "5. Host the code on GitHub\n",
    "6. Build a simple Front-End solution where someone can upload data to get predictions and host it on GitHub or Heroku\n",
    "\n",
    "\n",
    "You have to submit your **GitHub and/or Heroku** link through an email to **digital@bizdatainsights.com**\n"
   ]
  },
  {
   "cell_type": "markdown",
   "id": "d0eb1de0",
   "metadata": {},
   "source": [
    "______________________________________________________________________________________________________________________________"
   ]
  },
  {
   "cell_type": "markdown",
   "id": "4ef1fdf4",
   "metadata": {},
   "source": [
    "**Workflow:** \n",
    "\n",
    "- Import required libraries\n",
    "- Exploratory Data Analysis(EDA)\n",
    "- Feature Scaling\n",
    "- Feature Engineering\n",
    "- Model creation and Evaluation"
   ]
  },
  {
   "cell_type": "markdown",
   "id": "933786ed",
   "metadata": {},
   "source": [
    "## Importing Necessary Libraries"
   ]
  },
  {
   "cell_type": "code",
   "execution_count": 1,
   "id": "88131968",
   "metadata": {},
   "outputs": [],
   "source": [
    "import numpy as np     \n",
    "import pandas as pd\n",
    "import matplotlib.pyplot as plt\n",
    "import seaborn as sns\n",
    "import sklearn\n",
    "from sklearn import preprocessing\n",
    "import missingno as msno\n",
    "from sklearn.model_selection import train_test_split \n",
    "from sklearn.preprocessing import StandardScaler \n",
    "from sklearn import preprocessing\n",
    "label_encoder = preprocessing.LabelEncoder()\n",
    "import warnings\n",
    "warnings.simplefilter(action='ignore', category=FutureWarning)"
   ]
  },
  {
   "cell_type": "markdown",
   "id": "65aaef33",
   "metadata": {},
   "source": [
    "## Load the data"
   ]
  },
  {
   "cell_type": "code",
   "execution_count": 2,
   "id": "27078bda",
   "metadata": {},
   "outputs": [
    {
     "data": {
      "text/html": [
       "<div>\n",
       "<style scoped>\n",
       "    .dataframe tbody tr th:only-of-type {\n",
       "        vertical-align: middle;\n",
       "    }\n",
       "\n",
       "    .dataframe tbody tr th {\n",
       "        vertical-align: top;\n",
       "    }\n",
       "\n",
       "    .dataframe thead th {\n",
       "        text-align: right;\n",
       "    }\n",
       "</style>\n",
       "<table border=\"1\" class=\"dataframe\">\n",
       "  <thead>\n",
       "    <tr style=\"text-align: right;\">\n",
       "      <th></th>\n",
       "      <th>Loan_ID</th>\n",
       "      <th>Gender</th>\n",
       "      <th>Married</th>\n",
       "      <th>Dependents</th>\n",
       "      <th>Education</th>\n",
       "      <th>Self_Employed</th>\n",
       "      <th>ApplicantIncome</th>\n",
       "      <th>CoapplicantIncome</th>\n",
       "      <th>LoanAmount</th>\n",
       "      <th>Loan_Amount_Term</th>\n",
       "      <th>Credit_History</th>\n",
       "      <th>Property_Area</th>\n",
       "      <th>Loan Approved</th>\n",
       "    </tr>\n",
       "  </thead>\n",
       "  <tbody>\n",
       "    <tr>\n",
       "      <th>0</th>\n",
       "      <td>LP001015</td>\n",
       "      <td>Male</td>\n",
       "      <td>Yes</td>\n",
       "      <td>0</td>\n",
       "      <td>Graduate</td>\n",
       "      <td>No</td>\n",
       "      <td>5720</td>\n",
       "      <td>0</td>\n",
       "      <td>110.0</td>\n",
       "      <td>360.0</td>\n",
       "      <td>1.0</td>\n",
       "      <td>Urban</td>\n",
       "      <td>0</td>\n",
       "    </tr>\n",
       "    <tr>\n",
       "      <th>1</th>\n",
       "      <td>LP001022</td>\n",
       "      <td>Male</td>\n",
       "      <td>Yes</td>\n",
       "      <td>1</td>\n",
       "      <td>Graduate</td>\n",
       "      <td>No</td>\n",
       "      <td>3076</td>\n",
       "      <td>1500</td>\n",
       "      <td>126.0</td>\n",
       "      <td>360.0</td>\n",
       "      <td>1.0</td>\n",
       "      <td>Urban</td>\n",
       "      <td>0</td>\n",
       "    </tr>\n",
       "    <tr>\n",
       "      <th>2</th>\n",
       "      <td>LP001031</td>\n",
       "      <td>Male</td>\n",
       "      <td>Yes</td>\n",
       "      <td>2</td>\n",
       "      <td>Graduate</td>\n",
       "      <td>No</td>\n",
       "      <td>5000</td>\n",
       "      <td>1800</td>\n",
       "      <td>208.0</td>\n",
       "      <td>360.0</td>\n",
       "      <td>1.0</td>\n",
       "      <td>Urban</td>\n",
       "      <td>0</td>\n",
       "    </tr>\n",
       "    <tr>\n",
       "      <th>3</th>\n",
       "      <td>LP001035</td>\n",
       "      <td>Male</td>\n",
       "      <td>Yes</td>\n",
       "      <td>2</td>\n",
       "      <td>Graduate</td>\n",
       "      <td>No</td>\n",
       "      <td>2340</td>\n",
       "      <td>2546</td>\n",
       "      <td>100.0</td>\n",
       "      <td>360.0</td>\n",
       "      <td>NaN</td>\n",
       "      <td>Urban</td>\n",
       "      <td>0</td>\n",
       "    </tr>\n",
       "    <tr>\n",
       "      <th>4</th>\n",
       "      <td>LP001051</td>\n",
       "      <td>Male</td>\n",
       "      <td>No</td>\n",
       "      <td>0</td>\n",
       "      <td>Not Graduate</td>\n",
       "      <td>No</td>\n",
       "      <td>3276</td>\n",
       "      <td>0</td>\n",
       "      <td>78.0</td>\n",
       "      <td>360.0</td>\n",
       "      <td>1.0</td>\n",
       "      <td>Urban</td>\n",
       "      <td>0</td>\n",
       "    </tr>\n",
       "    <tr>\n",
       "      <th>...</th>\n",
       "      <td>...</td>\n",
       "      <td>...</td>\n",
       "      <td>...</td>\n",
       "      <td>...</td>\n",
       "      <td>...</td>\n",
       "      <td>...</td>\n",
       "      <td>...</td>\n",
       "      <td>...</td>\n",
       "      <td>...</td>\n",
       "      <td>...</td>\n",
       "      <td>...</td>\n",
       "      <td>...</td>\n",
       "      <td>...</td>\n",
       "    </tr>\n",
       "    <tr>\n",
       "      <th>362</th>\n",
       "      <td>LP002971</td>\n",
       "      <td>Male</td>\n",
       "      <td>Yes</td>\n",
       "      <td>3+</td>\n",
       "      <td>Not Graduate</td>\n",
       "      <td>Yes</td>\n",
       "      <td>4009</td>\n",
       "      <td>1777</td>\n",
       "      <td>113.0</td>\n",
       "      <td>360.0</td>\n",
       "      <td>1.0</td>\n",
       "      <td>Urban</td>\n",
       "      <td>0</td>\n",
       "    </tr>\n",
       "    <tr>\n",
       "      <th>363</th>\n",
       "      <td>LP002975</td>\n",
       "      <td>Male</td>\n",
       "      <td>Yes</td>\n",
       "      <td>0</td>\n",
       "      <td>Graduate</td>\n",
       "      <td>No</td>\n",
       "      <td>4158</td>\n",
       "      <td>709</td>\n",
       "      <td>115.0</td>\n",
       "      <td>360.0</td>\n",
       "      <td>1.0</td>\n",
       "      <td>Urban</td>\n",
       "      <td>0</td>\n",
       "    </tr>\n",
       "    <tr>\n",
       "      <th>364</th>\n",
       "      <td>LP002980</td>\n",
       "      <td>Male</td>\n",
       "      <td>No</td>\n",
       "      <td>0</td>\n",
       "      <td>Graduate</td>\n",
       "      <td>No</td>\n",
       "      <td>3250</td>\n",
       "      <td>1993</td>\n",
       "      <td>126.0</td>\n",
       "      <td>360.0</td>\n",
       "      <td>NaN</td>\n",
       "      <td>Semiurban</td>\n",
       "      <td>0</td>\n",
       "    </tr>\n",
       "    <tr>\n",
       "      <th>365</th>\n",
       "      <td>LP002986</td>\n",
       "      <td>Male</td>\n",
       "      <td>Yes</td>\n",
       "      <td>0</td>\n",
       "      <td>Graduate</td>\n",
       "      <td>No</td>\n",
       "      <td>5000</td>\n",
       "      <td>2393</td>\n",
       "      <td>158.0</td>\n",
       "      <td>360.0</td>\n",
       "      <td>1.0</td>\n",
       "      <td>Rural</td>\n",
       "      <td>0</td>\n",
       "    </tr>\n",
       "    <tr>\n",
       "      <th>366</th>\n",
       "      <td>LP002989</td>\n",
       "      <td>Male</td>\n",
       "      <td>No</td>\n",
       "      <td>0</td>\n",
       "      <td>Graduate</td>\n",
       "      <td>Yes</td>\n",
       "      <td>9200</td>\n",
       "      <td>0</td>\n",
       "      <td>98.0</td>\n",
       "      <td>180.0</td>\n",
       "      <td>1.0</td>\n",
       "      <td>Rural</td>\n",
       "      <td>0</td>\n",
       "    </tr>\n",
       "  </tbody>\n",
       "</table>\n",
       "<p>367 rows × 13 columns</p>\n",
       "</div>"
      ],
      "text/plain": [
       "      Loan_ID Gender Married Dependents     Education Self_Employed  \\\n",
       "0    LP001015   Male     Yes          0      Graduate            No   \n",
       "1    LP001022   Male     Yes          1      Graduate            No   \n",
       "2    LP001031   Male     Yes          2      Graduate            No   \n",
       "3    LP001035   Male     Yes          2      Graduate            No   \n",
       "4    LP001051   Male      No          0  Not Graduate            No   \n",
       "..        ...    ...     ...        ...           ...           ...   \n",
       "362  LP002971   Male     Yes         3+  Not Graduate           Yes   \n",
       "363  LP002975   Male     Yes          0      Graduate            No   \n",
       "364  LP002980   Male      No          0      Graduate            No   \n",
       "365  LP002986   Male     Yes          0      Graduate            No   \n",
       "366  LP002989   Male      No          0      Graduate           Yes   \n",
       "\n",
       "     ApplicantIncome  CoapplicantIncome  LoanAmount  Loan_Amount_Term  \\\n",
       "0               5720                  0       110.0             360.0   \n",
       "1               3076               1500       126.0             360.0   \n",
       "2               5000               1800       208.0             360.0   \n",
       "3               2340               2546       100.0             360.0   \n",
       "4               3276                  0        78.0             360.0   \n",
       "..               ...                ...         ...               ...   \n",
       "362             4009               1777       113.0             360.0   \n",
       "363             4158                709       115.0             360.0   \n",
       "364             3250               1993       126.0             360.0   \n",
       "365             5000               2393       158.0             360.0   \n",
       "366             9200                  0        98.0             180.0   \n",
       "\n",
       "     Credit_History Property_Area  Loan Approved  \n",
       "0               1.0         Urban              0  \n",
       "1               1.0         Urban              0  \n",
       "2               1.0         Urban              0  \n",
       "3               NaN         Urban              0  \n",
       "4               1.0         Urban              0  \n",
       "..              ...           ...            ...  \n",
       "362             1.0         Urban              0  \n",
       "363             1.0         Urban              0  \n",
       "364             NaN     Semiurban              0  \n",
       "365             1.0         Rural              0  \n",
       "366             1.0         Rural              0  \n",
       "\n",
       "[367 rows x 13 columns]"
      ]
     },
     "execution_count": 2,
     "metadata": {},
     "output_type": "execute_result"
    }
   ],
   "source": [
    "df = pd.read_csv(r'Demo_Data_Loan.csv') \n",
    "df"
   ]
  },
  {
   "cell_type": "markdown",
   "id": "90bda218",
   "metadata": {},
   "source": [
    "**Column data details:**\n",
    "\n",
    "- 'Loan_ID': refers to the ID of the loan takers\n",
    "- 'Gender': Sex Identifier___ Male/ Female\n",
    "- 'Married': Marital status__ yes/no\n",
    "- 'Dependents': Number of Dependants___ 0, 1, 2, 3+\n",
    "- 'Education': Education Level___ Graduated / Non graduated\n",
    "- 'Self_Employed': If self employed or not___ yes/no\n",
    "- 'ApplicantIncome': Loan applicants' income amounts\n",
    "- 'Co-applicantIncome': co-applicants income amount\n",
    "- 'LoanAmount': Amount of loans\n",
    "- 'Loan_Amount_Term': A loan term is the length of time it will take for a loan to be completely paid off when the borrower is    making regular payments \n",
    "- 'Credit_History': credit history is a record of a borrower's responsible repayment of debts\n",
    "- 'Property_Area': Urban, Rural, Semiurban___The people belong from different areas\n",
    "- 'Loan Approved' : If loans approved or not ___ 0/1"
   ]
  },
  {
   "cell_type": "code",
   "execution_count": 3,
   "id": "1d965277",
   "metadata": {},
   "outputs": [
    {
     "data": {
      "text/plain": [
       "(367, 13)"
      ]
     },
     "execution_count": 3,
     "metadata": {},
     "output_type": "execute_result"
    }
   ],
   "source": [
    "df.shape"
   ]
  },
  {
   "cell_type": "markdown",
   "id": "f14d7f36",
   "metadata": {},
   "source": [
    "## Exploratory Data Analysis(EDA)\n",
    "\n",
    "- Before building any Machine Learning model, it is important to perform some Data Analysis to get general idea. EDA is the process to examine and understand the data and extracting data insights as well as main characteristics. To understand the problem statement and various relationship between the data features EDA is very essential. \n",
    "\n",
    "- EDA is generally classified into two methods: **Graphical analysis** & **Non-graphical analysis**."
   ]
  },
  {
   "cell_type": "markdown",
   "id": "7a423302",
   "metadata": {},
   "source": [
    "**Steps of EDA**\n",
    "\n",
    "- Understand the data : Basic Exploration and Data cleaning \n",
    "- Univariate Analysis\n",
    "- Bivariate Analysis\n",
    "- Missing values treatment\n",
    "- Encoding Categorical variables \n",
    "- Normalizing and Scaling\n",
    "- Outlier checking and treatment\n",
    "- Variable Transformation and creation"
   ]
  },
  {
   "cell_type": "markdown",
   "id": "ff666184",
   "metadata": {},
   "source": [
    "### **i. Understand the Data : Basic Exploration and Data cleaning**:  \n",
    "- To solve any problem it is necessary to understand the data. The most important task is to determine the Dependent/Predicted Variables(target/label) and Independent/Predictor Variables. "
   ]
  },
  {
   "cell_type": "code",
   "execution_count": 4,
   "id": "26a4c1a4",
   "metadata": {},
   "outputs": [
    {
     "data": {
      "text/plain": [
       "['Loan_ID',\n",
       " 'Gender',\n",
       " 'Married',\n",
       " 'Dependents',\n",
       " 'Education',\n",
       " 'Self_Employed',\n",
       " 'ApplicantIncome',\n",
       " 'CoapplicantIncome',\n",
       " 'LoanAmount',\n",
       " 'Loan_Amount_Term',\n",
       " 'Credit_History',\n",
       " 'Property_Area',\n",
       " 'Loan Approved']"
      ]
     },
     "execution_count": 4,
     "metadata": {},
     "output_type": "execute_result"
    }
   ],
   "source": [
    "df.columns.tolist()"
   ]
  },
  {
   "cell_type": "code",
   "execution_count": 5,
   "id": "77b8c8aa",
   "metadata": {},
   "outputs": [
    {
     "data": {
      "text/plain": [
       "Loan_ID               object\n",
       "Gender                object\n",
       "Married               object\n",
       "Dependents            object\n",
       "Education             object\n",
       "Self_Employed         object\n",
       "ApplicantIncome        int64\n",
       "CoapplicantIncome      int64\n",
       "LoanAmount           float64\n",
       "Loan_Amount_Term     float64\n",
       "Credit_History       float64\n",
       "Property_Area         object\n",
       "Loan Approved          int64\n",
       "dtype: object"
      ]
     },
     "execution_count": 5,
     "metadata": {},
     "output_type": "execute_result"
    }
   ],
   "source": [
    "## Data types of each columns\n",
    "\n",
    "df.dtypes "
   ]
  },
  {
   "cell_type": "code",
   "execution_count": 6,
   "id": "21c51d69",
   "metadata": {},
   "outputs": [
    {
     "name": "stdout",
     "output_type": "stream",
     "text": [
      "<class 'pandas.core.frame.DataFrame'>\n",
      "RangeIndex: 367 entries, 0 to 366\n",
      "Data columns (total 13 columns):\n",
      " #   Column             Non-Null Count  Dtype  \n",
      "---  ------             --------------  -----  \n",
      " 0   Loan_ID            367 non-null    object \n",
      " 1   Gender             356 non-null    object \n",
      " 2   Married            367 non-null    object \n",
      " 3   Dependents         357 non-null    object \n",
      " 4   Education          367 non-null    object \n",
      " 5   Self_Employed      344 non-null    object \n",
      " 6   ApplicantIncome    367 non-null    int64  \n",
      " 7   CoapplicantIncome  367 non-null    int64  \n",
      " 8   LoanAmount         362 non-null    float64\n",
      " 9   Loan_Amount_Term   361 non-null    float64\n",
      " 10  Credit_History     338 non-null    float64\n",
      " 11  Property_Area      367 non-null    object \n",
      " 12  Loan Approved      367 non-null    int64  \n",
      "dtypes: float64(3), int64(3), object(7)\n",
      "memory usage: 37.4+ KB\n"
     ]
    }
   ],
   "source": [
    "df.info()"
   ]
  },
  {
   "cell_type": "code",
   "execution_count": 7,
   "id": "735e414e",
   "metadata": {},
   "outputs": [
    {
     "data": {
      "text/html": [
       "<div>\n",
       "<style scoped>\n",
       "    .dataframe tbody tr th:only-of-type {\n",
       "        vertical-align: middle;\n",
       "    }\n",
       "\n",
       "    .dataframe tbody tr th {\n",
       "        vertical-align: top;\n",
       "    }\n",
       "\n",
       "    .dataframe thead th {\n",
       "        text-align: right;\n",
       "    }\n",
       "</style>\n",
       "<table border=\"1\" class=\"dataframe\">\n",
       "  <thead>\n",
       "    <tr style=\"text-align: right;\">\n",
       "      <th></th>\n",
       "      <th>ApplicantIncome</th>\n",
       "      <th>CoapplicantIncome</th>\n",
       "      <th>LoanAmount</th>\n",
       "      <th>Loan_Amount_Term</th>\n",
       "      <th>Credit_History</th>\n",
       "      <th>Loan Approved</th>\n",
       "    </tr>\n",
       "  </thead>\n",
       "  <tbody>\n",
       "    <tr>\n",
       "      <th>count</th>\n",
       "      <td>367.000000</td>\n",
       "      <td>367.000000</td>\n",
       "      <td>362.000000</td>\n",
       "      <td>361.000000</td>\n",
       "      <td>338.000000</td>\n",
       "      <td>367.000000</td>\n",
       "    </tr>\n",
       "    <tr>\n",
       "      <th>mean</th>\n",
       "      <td>4805.599455</td>\n",
       "      <td>1569.577657</td>\n",
       "      <td>136.132597</td>\n",
       "      <td>342.537396</td>\n",
       "      <td>0.825444</td>\n",
       "      <td>0.070845</td>\n",
       "    </tr>\n",
       "    <tr>\n",
       "      <th>std</th>\n",
       "      <td>4910.685399</td>\n",
       "      <td>2334.232099</td>\n",
       "      <td>61.366652</td>\n",
       "      <td>65.156643</td>\n",
       "      <td>0.380150</td>\n",
       "      <td>0.256915</td>\n",
       "    </tr>\n",
       "    <tr>\n",
       "      <th>min</th>\n",
       "      <td>0.000000</td>\n",
       "      <td>0.000000</td>\n",
       "      <td>28.000000</td>\n",
       "      <td>6.000000</td>\n",
       "      <td>0.000000</td>\n",
       "      <td>0.000000</td>\n",
       "    </tr>\n",
       "    <tr>\n",
       "      <th>25%</th>\n",
       "      <td>2864.000000</td>\n",
       "      <td>0.000000</td>\n",
       "      <td>100.250000</td>\n",
       "      <td>360.000000</td>\n",
       "      <td>1.000000</td>\n",
       "      <td>0.000000</td>\n",
       "    </tr>\n",
       "    <tr>\n",
       "      <th>50%</th>\n",
       "      <td>3786.000000</td>\n",
       "      <td>1025.000000</td>\n",
       "      <td>125.000000</td>\n",
       "      <td>360.000000</td>\n",
       "      <td>1.000000</td>\n",
       "      <td>0.000000</td>\n",
       "    </tr>\n",
       "    <tr>\n",
       "      <th>75%</th>\n",
       "      <td>5060.000000</td>\n",
       "      <td>2430.500000</td>\n",
       "      <td>158.000000</td>\n",
       "      <td>360.000000</td>\n",
       "      <td>1.000000</td>\n",
       "      <td>0.000000</td>\n",
       "    </tr>\n",
       "    <tr>\n",
       "      <th>max</th>\n",
       "      <td>72529.000000</td>\n",
       "      <td>24000.000000</td>\n",
       "      <td>550.000000</td>\n",
       "      <td>480.000000</td>\n",
       "      <td>1.000000</td>\n",
       "      <td>1.000000</td>\n",
       "    </tr>\n",
       "  </tbody>\n",
       "</table>\n",
       "</div>"
      ],
      "text/plain": [
       "       ApplicantIncome  CoapplicantIncome  LoanAmount  Loan_Amount_Term  \\\n",
       "count       367.000000         367.000000  362.000000        361.000000   \n",
       "mean       4805.599455        1569.577657  136.132597        342.537396   \n",
       "std        4910.685399        2334.232099   61.366652         65.156643   \n",
       "min           0.000000           0.000000   28.000000          6.000000   \n",
       "25%        2864.000000           0.000000  100.250000        360.000000   \n",
       "50%        3786.000000        1025.000000  125.000000        360.000000   \n",
       "75%        5060.000000        2430.500000  158.000000        360.000000   \n",
       "max       72529.000000       24000.000000  550.000000        480.000000   \n",
       "\n",
       "       Credit_History  Loan Approved  \n",
       "count      338.000000     367.000000  \n",
       "mean         0.825444       0.070845  \n",
       "std          0.380150       0.256915  \n",
       "min          0.000000       0.000000  \n",
       "25%          1.000000       0.000000  \n",
       "50%          1.000000       0.000000  \n",
       "75%          1.000000       0.000000  \n",
       "max          1.000000       1.000000  "
      ]
     },
     "execution_count": 7,
     "metadata": {},
     "output_type": "execute_result"
    }
   ],
   "source": [
    "df.describe()"
   ]
  },
  {
   "cell_type": "code",
   "execution_count": 8,
   "id": "e67e898c",
   "metadata": {},
   "outputs": [
    {
     "data": {
      "text/plain": [
       "<AxesSubplot:>"
      ]
     },
     "execution_count": 8,
     "metadata": {},
     "output_type": "execute_result"
    },
    {
     "data": {
      "image/png": "[encoded data removed]",
      "text/plain": [
       "<Figure size 1440x720 with 2 Axes>"
      ]
     },
     "metadata": {
      "needs_background": "light"
     },
     "output_type": "display_data"
    }
   ],
   "source": [
    "corrmat = df.corr()\n",
    "cmap = sns.diverging_palette(260,-10,s=50, l=75, n=6, as_cmap=True)\n",
    "plt.subplots(figsize=(20,10))\n",
    "sns.heatmap(corrmat,cmap= cmap, annot=True, square=True)"
   ]
  },
  {
   "cell_type": "markdown",
   "id": "3db3b949",
   "metadata": {},
   "source": [
    "## Basic Data Visualization"
   ]
  },
  {
   "cell_type": "code",
   "execution_count": 9,
   "id": "bcc5c976",
   "metadata": {},
   "outputs": [
    {
     "data": {
      "text/html": [
       "<div>\n",
       "<style scoped>\n",
       "    .dataframe tbody tr th:only-of-type {\n",
       "        vertical-align: middle;\n",
       "    }\n",
       "\n",
       "    .dataframe tbody tr th {\n",
       "        vertical-align: top;\n",
       "    }\n",
       "\n",
       "    .dataframe thead th {\n",
       "        text-align: right;\n",
       "    }\n",
       "</style>\n",
       "<table border=\"1\" class=\"dataframe\">\n",
       "  <thead>\n",
       "    <tr style=\"text-align: right;\">\n",
       "      <th></th>\n",
       "      <th>Gender</th>\n",
       "      <th>Loan Approved</th>\n",
       "    </tr>\n",
       "  </thead>\n",
       "  <tbody>\n",
       "    <tr>\n",
       "      <th>0</th>\n",
       "      <td>Female</td>\n",
       "      <td>70</td>\n",
       "    </tr>\n",
       "    <tr>\n",
       "      <th>1</th>\n",
       "      <td>Male</td>\n",
       "      <td>286</td>\n",
       "    </tr>\n",
       "  </tbody>\n",
       "</table>\n",
       "</div>"
      ],
      "text/plain": [
       "   Gender  Loan Approved\n",
       "0  Female             70\n",
       "1    Male            286"
      ]
     },
     "execution_count": 9,
     "metadata": {},
     "output_type": "execute_result"
    }
   ],
   "source": [
    "applicantType1 = df.groupby([\"Gender\"], as_index=False)[\"Loan Approved\"].count()\n",
    "applicantType1"
   ]
  },
  {
   "cell_type": "markdown",
   "id": "80ce921a",
   "metadata": {},
   "source": [
    "- There are two types of applicants in terms of gender in the dataset, Male & Female. Among them Male Applicants are the highest loan takers than the female applicants."
   ]
  },
  {
   "cell_type": "code",
   "execution_count": 10,
   "id": "0e2cde7d",
   "metadata": {},
   "outputs": [
    {
     "data": {
      "text/html": [
       "<div>\n",
       "<style scoped>\n",
       "    .dataframe tbody tr th:only-of-type {\n",
       "        vertical-align: middle;\n",
       "    }\n",
       "\n",
       "    .dataframe tbody tr th {\n",
       "        vertical-align: top;\n",
       "    }\n",
       "\n",
       "    .dataframe thead th {\n",
       "        text-align: right;\n",
       "    }\n",
       "</style>\n",
       "<table border=\"1\" class=\"dataframe\">\n",
       "  <thead>\n",
       "    <tr style=\"text-align: right;\">\n",
       "      <th></th>\n",
       "      <th>Married</th>\n",
       "      <th>Loan Approved</th>\n",
       "    </tr>\n",
       "  </thead>\n",
       "  <tbody>\n",
       "    <tr>\n",
       "      <th>0</th>\n",
       "      <td>No</td>\n",
       "      <td>134</td>\n",
       "    </tr>\n",
       "    <tr>\n",
       "      <th>1</th>\n",
       "      <td>Yes</td>\n",
       "      <td>233</td>\n",
       "    </tr>\n",
       "  </tbody>\n",
       "</table>\n",
       "</div>"
      ],
      "text/plain": [
       "  Married  Loan Approved\n",
       "0      No            134\n",
       "1     Yes            233"
      ]
     },
     "execution_count": 10,
     "metadata": {},
     "output_type": "execute_result"
    }
   ],
   "source": [
    "applicantType2 = df.groupby([\"Married\"], as_index=False)[\"Loan Approved\"].count()\n",
    "applicantType2"
   ]
  },
  {
   "cell_type": "markdown",
   "id": "b6c6429a",
   "metadata": {},
   "source": [
    "- There are two types of applicants in terms of marital status in the dataset, Married & Unmarried. Among them Married Applicants are the highest loan takers than the Unmarried applicants."
   ]
  },
  {
   "cell_type": "code",
   "execution_count": 11,
   "id": "970f1a7b",
   "metadata": {},
   "outputs": [
    {
     "data": {
      "text/html": [
       "<div>\n",
       "<style scoped>\n",
       "    .dataframe tbody tr th:only-of-type {\n",
       "        vertical-align: middle;\n",
       "    }\n",
       "\n",
       "    .dataframe tbody tr th {\n",
       "        vertical-align: top;\n",
       "    }\n",
       "\n",
       "    .dataframe thead th {\n",
       "        text-align: right;\n",
       "    }\n",
       "</style>\n",
       "<table border=\"1\" class=\"dataframe\">\n",
       "  <thead>\n",
       "    <tr style=\"text-align: right;\">\n",
       "      <th></th>\n",
       "      <th>Credit_History</th>\n",
       "      <th>Loan Approved</th>\n",
       "    </tr>\n",
       "  </thead>\n",
       "  <tbody>\n",
       "    <tr>\n",
       "      <th>0</th>\n",
       "      <td>0.0</td>\n",
       "      <td>59</td>\n",
       "    </tr>\n",
       "    <tr>\n",
       "      <th>1</th>\n",
       "      <td>1.0</td>\n",
       "      <td>279</td>\n",
       "    </tr>\n",
       "  </tbody>\n",
       "</table>\n",
       "</div>"
      ],
      "text/plain": [
       "   Credit_History  Loan Approved\n",
       "0             0.0             59\n",
       "1             1.0            279"
      ]
     },
     "execution_count": 11,
     "metadata": {},
     "output_type": "execute_result"
    }
   ],
   "source": [
    "LoanAmount = df.groupby([\"Credit_History\"], as_index=False)[\"Loan Approved\"].count()\n",
    "LoanAmount"
   ]
  },
  {
   "cell_type": "markdown",
   "id": "31d8b584",
   "metadata": {},
   "source": [
    "- Lone approval status depending on Credit_history"
   ]
  },
  {
   "cell_type": "markdown",
   "id": "7c5b8bed",
   "metadata": {},
   "source": [
    "### ii. Univariate Analysis : now, graphing the raw data to see the normal distribution of the columns. \n",
    "- Using Histogram to show up if the data is normally distributed or not. "
   ]
  },
  {
   "cell_type": "code",
   "execution_count": 12,
   "id": "68bc0244",
   "metadata": {},
   "outputs": [
    {
     "data": {
      "text/plain": [
       "<AxesSubplot:>"
      ]
     },
     "execution_count": 12,
     "metadata": {},
     "output_type": "execute_result"
    },
    {
     "data": {
      "image/png": "[encoded data removed]",
      "text/plain": [
       "<Figure size 432x288 with 1 Axes>"
      ]
     },
     "metadata": {
      "needs_background": "light"
     },
     "output_type": "display_data"
    }
   ],
   "source": [
    "# data of Loan Approval\n",
    "\n",
    "\n",
    "df['Loan Approved'].value_counts().plot.bar()"
   ]
  },
  {
   "cell_type": "code",
   "execution_count": 13,
   "id": "4e91eb32",
   "metadata": {},
   "outputs": [
    {
     "data": {
      "text/plain": [
       "0    341\n",
       "1     26\n",
       "Name: Loan Approved, dtype: int64"
      ]
     },
     "execution_count": 13,
     "metadata": {},
     "output_type": "execute_result"
    }
   ],
   "source": [
    "df['Loan Approved'].value_counts()"
   ]
  },
  {
   "cell_type": "markdown",
   "id": "00b99b8b",
   "metadata": {},
   "source": [
    "- Among the 367 applicants, 26 applicants got approval for Loans"
   ]
  },
  {
   "cell_type": "code",
   "execution_count": 14,
   "id": "8107e400",
   "metadata": {},
   "outputs": [
    {
     "data": {
      "image/png": "[encoded data removed]",
      "text/plain": [
       "<Figure size 360x360 with 1 Axes>"
      ]
     },
     "metadata": {
      "needs_background": "light"
     },
     "output_type": "display_data"
    },
    {
     "data": {
      "image/png": "[encoded data removed]",
      "text/plain": [
       "<Figure size 432x288 with 1 Axes>"
      ]
     },
     "metadata": {
      "needs_background": "light"
     },
     "output_type": "display_data"
    },
    {
     "data": {
      "image/png": "[encoded data removed]",
      "text/plain": [
       "<Figure size 432x288 with 1 Axes>"
      ]
     },
     "metadata": {
      "needs_background": "light"
     },
     "output_type": "display_data"
    },
    {
     "data": {
      "image/png": "[encoded data removed]",
      "text/plain": [
       "<Figure size 432x288 with 1 Axes>"
      ]
     },
     "metadata": {
      "needs_background": "light"
     },
     "output_type": "display_data"
    }
   ],
   "source": [
    "## ALL Categorical Independent Variables\n",
    "## the data distribution\n",
    "\n",
    "df['Gender'].value_counts(normalize=True).plot.bar(figsize=(5,5), title='Gender')\n",
    "plt.show()\n",
    "df['Married'].value_counts(normalize=True).plot.bar(title='Married')\n",
    "plt.show()\n",
    "df['Self_Employed'].value_counts(normalize=True).plot.bar(title='Self_Employed')\n",
    "plt.show()\n",
    "df['Credit_History'].value_counts(normalize=True).plot.bar(title='Credit_History')\n",
    "plt.show()"
   ]
  },
  {
   "cell_type": "markdown",
   "id": "f8d0dce1",
   "metadata": {},
   "source": [
    "- 80% of applicants are male.\n",
    "- 65% of the applicants are married.\n",
    "- 15% of applicants are self-employed.\n",
    "- 85% of applicants have repaid their debts."
   ]
  },
  {
   "cell_type": "code",
   "execution_count": 15,
   "id": "ea8d6956",
   "metadata": {},
   "outputs": [
    {
     "data": {
      "image/png": "[encoded data removed]",
      "text/plain": [
       "<Figure size 360x360 with 1 Axes>"
      ]
     },
     "metadata": {
      "needs_background": "light"
     },
     "output_type": "display_data"
    },
    {
     "data": {
      "image/png": "[encoded data removed]",
      "text/plain": [
       "<Figure size 432x288 with 1 Axes>"
      ]
     },
     "metadata": {
      "needs_background": "light"
     },
     "output_type": "display_data"
    },
    {
     "data": {
      "image/png": "[encoded data removed]",
      "text/plain": [
       "<Figure size 432x288 with 1 Axes>"
      ]
     },
     "metadata": {
      "needs_background": "light"
     },
     "output_type": "display_data"
    }
   ],
   "source": [
    "### Visualization on Ordinal Independent Variables\n",
    "\n",
    "\n",
    "df['Dependents'].value_counts(normalize=True).plot.bar(figsize=(5,5), title='Dependents')\n",
    "plt.show()\n",
    "df['Education'].value_counts(normalize=True).plot.bar(title='Education')\n",
    "plt.show()\n",
    "df['Property_Area'].value_counts(normalize=True).plot.bar(title='Property_Area')\n",
    "plt.show()"
   ]
  },
  {
   "cell_type": "markdown",
   "id": "def49763",
   "metadata": {},
   "source": [
    "- Mostly don't have any dependents.\n",
    "- Around 80% of the applicants are Graduate.\n",
    "- Most are urban applicants."
   ]
  },
  {
   "cell_type": "code",
   "execution_count": 16,
   "id": "0013e9cc",
   "metadata": {},
   "outputs": [
    {
     "data": {
      "image/png": "[encoded data removed]",
      "text/plain": [
       "<Figure size 432x288 with 1 Axes>"
      ]
     },
     "metadata": {
      "needs_background": "light"
     },
     "output_type": "display_data"
    },
    {
     "data": {
      "image/png": "[encoded data removed]",
      "text/plain": [
       "<Figure size 432x288 with 1 Axes>"
      ]
     },
     "metadata": {
      "needs_background": "light"
     },
     "output_type": "display_data"
    }
   ],
   "source": [
    "### Visualization on Numerical Independent Variables\n",
    "\n",
    "\n",
    "sns.distplot(df['ApplicantIncome'])\n",
    "plt.show()\n",
    "sns.distplot(df['CoapplicantIncome'])\n",
    "plt.show()\n"
   ]
  },
  {
   "cell_type": "markdown",
   "id": "2d47b6e5",
   "metadata": {},
   "source": [
    "- For the applicantincome and the co-applicants income, the data distribution is not normal, that is left-skewed."
   ]
  },
  {
   "cell_type": "code",
   "execution_count": 17,
   "id": "51541532",
   "metadata": {},
   "outputs": [
    {
     "data": {
      "image/png": "[encoded data removed]",
      "text/plain": [
       "<Figure size 432x288 with 1 Axes>"
      ]
     },
     "metadata": {
      "needs_background": "light"
     },
     "output_type": "display_data"
    }
   ],
   "source": [
    "sns.distplot(df['LoanAmount'])\n",
    "plt.show()"
   ]
  },
  {
   "cell_type": "markdown",
   "id": "637b08c9",
   "metadata": {},
   "source": [
    "#### Boxplot : to show the Outliers in the data \n",
    "\n",
    "- The boxplot confirms the presence of outliers/extreme values in the dataset"
   ]
  },
  {
   "cell_type": "code",
   "execution_count": 18,
   "id": "9ca91234",
   "metadata": {},
   "outputs": [
    {
     "data": {
      "text/plain": [
       "<AxesSubplot:xlabel='ApplicantIncome'>"
      ]
     },
     "execution_count": 18,
     "metadata": {},
     "output_type": "execute_result"
    },
    {
     "data": {
      "image/png": "[encoded data removed]",
      "text/plain": [
       "<Figure size 432x288 with 1 Axes>"
      ]
     },
     "metadata": {
      "needs_background": "light"
     },
     "output_type": "display_data"
    }
   ],
   "source": [
    "## Check the Outliers of the Numerical Data\n",
    "\n",
    "\n",
    "a1 = sns.boxplot(x=df['ApplicantIncome']) \n",
    "a1"
   ]
  },
  {
   "cell_type": "code",
   "execution_count": 19,
   "id": "21ebdb38",
   "metadata": {},
   "outputs": [
    {
     "data": {
      "text/plain": [
       "<AxesSubplot:xlabel='CoapplicantIncome'>"
      ]
     },
     "execution_count": 19,
     "metadata": {},
     "output_type": "execute_result"
    },
    {
     "data": {
      "image/png": "[encoded data removed]",
      "text/plain": [
       "<Figure size 432x288 with 1 Axes>"
      ]
     },
     "metadata": {
      "needs_background": "light"
     },
     "output_type": "display_data"
    }
   ],
   "source": [
    "a2 = sns.boxplot(x=df['CoapplicantIncome']) \n",
    "a2"
   ]
  },
  {
   "cell_type": "code",
   "execution_count": 20,
   "id": "4281216c",
   "metadata": {},
   "outputs": [
    {
     "data": {
      "text/plain": [
       "<AxesSubplot:xlabel='LoanAmount'>"
      ]
     },
     "execution_count": 20,
     "metadata": {},
     "output_type": "execute_result"
    },
    {
     "data": {
      "image/png": "[encoded data removed]",
      "text/plain": [
       "<Figure size 432x288 with 1 Axes>"
      ]
     },
     "metadata": {
      "needs_background": "light"
     },
     "output_type": "display_data"
    }
   ],
   "source": [
    "a3 = sns.boxplot(x=df['LoanAmount']) \n",
    "a3"
   ]
  },
  {
   "cell_type": "markdown",
   "id": "1d29f07b",
   "metadata": {},
   "source": [
    "- No outliers found in the numerical features"
   ]
  },
  {
   "cell_type": "markdown",
   "id": "1037d9e9",
   "metadata": {},
   "source": [
    "### iii.  Bivariate Analysis \n",
    "- now we will look on each variables with respect to target variable.\n"
   ]
  },
  {
   "cell_type": "markdown",
   "id": "a7a78696",
   "metadata": {},
   "source": [
    "##### Gender VS Loan Approved "
   ]
  },
  {
   "cell_type": "code",
   "execution_count": 21,
   "id": "6fcd9ea5",
   "metadata": {},
   "outputs": [
    {
     "data": {
      "text/plain": [
       "Text(0.5, 1.0, 'Number of approved loans vs Gender')"
      ]
     },
     "execution_count": 21,
     "metadata": {},
     "output_type": "execute_result"
    },
    {
     "data": {
      "image/png": "[encoded data removed]",
      "text/plain": [
       "<Figure size 432x288 with 1 Axes>"
      ]
     },
     "metadata": {
      "needs_background": "light"
     },
     "output_type": "display_data"
    }
   ],
   "source": [
    "sns.countplot(df[\"Gender\"], hue = df[\"Loan Approved\"])\n",
    "plt.title('Number of approved loans vs Gender')"
   ]
  },
  {
   "cell_type": "markdown",
   "id": "5d9b2637",
   "metadata": {},
   "source": [
    "**Married  VS  Loan Approved**"
   ]
  },
  {
   "cell_type": "code",
   "execution_count": 22,
   "id": "05aa75a6",
   "metadata": {},
   "outputs": [
    {
     "data": {
      "text/plain": [
       "Text(0.5, 1.0, 'Number of Loan Approved vs Married')"
      ]
     },
     "execution_count": 22,
     "metadata": {},
     "output_type": "execute_result"
    },
    {
     "data": {
      "image/png": "[encoded data removed]",
      "text/plain": [
       "<Figure size 432x288 with 1 Axes>"
      ]
     },
     "metadata": {
      "needs_background": "light"
     },
     "output_type": "display_data"
    }
   ],
   "source": [
    "sns.countplot(df[\"Married\"], hue = df[\"Loan Approved\"])\n",
    "plt.title('Number of Loan Approved vs Married')"
   ]
  },
  {
   "cell_type": "markdown",
   "id": "1edaee43",
   "metadata": {},
   "source": [
    "#### Dependants VS Loan Approved"
   ]
  },
  {
   "cell_type": "code",
   "execution_count": 23,
   "id": "3695a7fd",
   "metadata": {},
   "outputs": [
    {
     "data": {
      "text/plain": [
       "Text(0.5, 1.0, 'Having depepdents vs Loan Approval')"
      ]
     },
     "execution_count": 23,
     "metadata": {},
     "output_type": "execute_result"
    },
    {
     "data": {
      "image/png": "[encoded data removed]",
      "text/plain": [
       "<Figure size 432x288 with 1 Axes>"
      ]
     },
     "metadata": {
      "needs_background": "light"
     },
     "output_type": "display_data"
    }
   ],
   "source": [
    "sns.countplot(df[\"Dependents\"], hue = df[\"Loan Approved\"])\n",
    "plt.title('Having depepdents vs Loan Approval')"
   ]
  },
  {
   "cell_type": "markdown",
   "id": "f84268a0",
   "metadata": {},
   "source": [
    "**Educational status vs Loan Approval**"
   ]
  },
  {
   "cell_type": "code",
   "execution_count": 24,
   "id": "9fb19c35",
   "metadata": {},
   "outputs": [
    {
     "data": {
      "text/plain": [
       "Text(0.5, 1.0, ' Educational status vs Loan Approval')"
      ]
     },
     "execution_count": 24,
     "metadata": {},
     "output_type": "execute_result"
    },
    {
     "data": {
      "image/png": "[encoded data removed]",
      "text/plain": [
       "<Figure size 432x288 with 1 Axes>"
      ]
     },
     "metadata": {
      "needs_background": "light"
     },
     "output_type": "display_data"
    }
   ],
   "source": [
    "sns.countplot(df[\"Education\"], hue = df[\"Loan Approved\"])\n",
    "plt.title(' Educational status vs Loan Approval')"
   ]
  },
  {
   "cell_type": "markdown",
   "id": "cbfe1856",
   "metadata": {},
   "source": [
    "**Self_Employed vs Loan Approval**"
   ]
  },
  {
   "cell_type": "code",
   "execution_count": 25,
   "id": "6d5a5732",
   "metadata": {},
   "outputs": [
    {
     "data": {
      "text/plain": [
       "Text(0.5, 1.0, 'Self_Employed vs Loan Approval')"
      ]
     },
     "execution_count": 25,
     "metadata": {},
     "output_type": "execute_result"
    },
    {
     "data": {
      "image/png": "[encoded data removed]",
      "text/plain": [
       "<Figure size 432x288 with 1 Axes>"
      ]
     },
     "metadata": {
      "needs_background": "light"
     },
     "output_type": "display_data"
    }
   ],
   "source": [
    "sns.countplot(df[\"Self_Employed\"], hue = df[\"Loan Approved\"])\n",
    "plt.title('Self_Employed vs Loan Approval')"
   ]
  },
  {
   "cell_type": "markdown",
   "id": "3844c787",
   "metadata": {},
   "source": [
    "**Loan_Amount_Term vs Loan Approved**"
   ]
  },
  {
   "cell_type": "code",
   "execution_count": 26,
   "id": "d5057f1a",
   "metadata": {},
   "outputs": [
    {
     "data": {
      "text/plain": [
       "Text(0.5, 1.0, 'Loan_Amount_Term vs Loan Approved')"
      ]
     },
     "execution_count": 26,
     "metadata": {},
     "output_type": "execute_result"
    },
    {
     "data": {
      "image/png": "[encoded data removed]",
      "text/plain": [
       "<Figure size 432x288 with 1 Axes>"
      ]
     },
     "metadata": {
      "needs_background": "light"
     },
     "output_type": "display_data"
    }
   ],
   "source": [
    "sns.countplot(df[\"Loan_Amount_Term\"], hue = df[\"Loan Approved\"])\n",
    "plt.title('Loan_Amount_Term vs Loan Approved')"
   ]
  },
  {
   "cell_type": "markdown",
   "id": "8aa18528",
   "metadata": {},
   "source": [
    "**Credit_History vs Loan Approved**"
   ]
  },
  {
   "cell_type": "code",
   "execution_count": 27,
   "id": "d2d15d6d",
   "metadata": {},
   "outputs": [
    {
     "data": {
      "text/plain": [
       "Text(0.5, 1.0, 'Credit_History vs Loan Approved')"
      ]
     },
     "execution_count": 27,
     "metadata": {},
     "output_type": "execute_result"
    },
    {
     "data": {
      "image/png": "[encoded data removed]",
      "text/plain": [
       "<Figure size 432x288 with 1 Axes>"
      ]
     },
     "metadata": {
      "needs_background": "light"
     },
     "output_type": "display_data"
    }
   ],
   "source": [
    "sns.countplot(df[\"Credit_History\"], hue = df[\"Loan Approved\"])\n",
    "plt.title('Credit_History vs Loan Approved')"
   ]
  },
  {
   "cell_type": "markdown",
   "id": "1652f530",
   "metadata": {},
   "source": [
    "**Property_Area vs Loan Approved**"
   ]
  },
  {
   "cell_type": "code",
   "execution_count": 28,
   "id": "cc8af8c3",
   "metadata": {},
   "outputs": [
    {
     "data": {
      "text/plain": [
       "Text(0.5, 1.0, 'Property_Area vs Loan Approved')"
      ]
     },
     "execution_count": 28,
     "metadata": {},
     "output_type": "execute_result"
    },
    {
     "data": {
      "image/png": "[encoded data removed]",
      "text/plain": [
       "<Figure size 432x288 with 1 Axes>"
      ]
     },
     "metadata": {
      "needs_background": "light"
     },
     "output_type": "display_data"
    }
   ],
   "source": [
    "sns.countplot(df[\"Property_Area\"], hue = df[\"Loan Approved\"])\n",
    "plt.title('Property_Area vs Loan Approved')"
   ]
  },
  {
   "cell_type": "markdown",
   "id": "9a5233e5",
   "metadata": {},
   "source": [
    "**Numerical Independent Variables -- Applicant Income, Coapplicants Income vs Target Variable**"
   ]
  },
  {
   "cell_type": "code",
   "execution_count": 29,
   "id": "dd02ad8b",
   "metadata": {},
   "outputs": [
    {
     "data": {
      "text/plain": [
       "<AxesSubplot:xlabel='Loan Approved'>"
      ]
     },
     "execution_count": 29,
     "metadata": {},
     "output_type": "execute_result"
    },
    {
     "data": {
      "image/png": "[encoded data removed]",
      "text/plain": [
       "<Figure size 432x288 with 1 Axes>"
      ]
     },
     "metadata": {
      "needs_background": "light"
     },
     "output_type": "display_data"
    }
   ],
   "source": [
    "df.groupby('Loan Approved')['ApplicantIncome'].mean().plot.bar()"
   ]
  },
  {
   "cell_type": "code",
   "execution_count": 30,
   "id": "4a4d6bc5",
   "metadata": {},
   "outputs": [
    {
     "data": {
      "image/png": "[encoded data removed]",
      "text/plain": [
       "<Figure size 432x288 with 1 Axes>"
      ]
     },
     "metadata": {
      "needs_background": "light"
     },
     "output_type": "display_data"
    }
   ],
   "source": [
    "Income1=[0,2000,3000,4000,5000]\n",
    "group=['Low','Average','High', 'Very high']\n",
    "df['Income']=pd.cut(df['ApplicantIncome'],Income1,labels=group)\n",
    "Income=pd.crosstab(df['Income'],df['Loan Approved'])\n",
    "Income.div(Income.sum(1).astype(float), axis=0).plot(kind='bar',stacked=True)\n",
    "plt.xlabel('ApplicantIncome')\n",
    "P=plt.ylabel('percentage')"
   ]
  },
  {
   "cell_type": "markdown",
   "id": "01e1e9d0",
   "metadata": {},
   "source": [
    "- Applicant income does not affect the chances of loan approval here.  There can be hypothesis that is the high income of  applicants can create the possibility higher for the loan approval, but that is not true here. "
   ]
  },
  {
   "cell_type": "code",
   "execution_count": 31,
   "id": "0a04927d",
   "metadata": {},
   "outputs": [
    {
     "data": {
      "text/plain": [
       "<AxesSubplot:xlabel='Loan Approved'>"
      ]
     },
     "execution_count": 31,
     "metadata": {},
     "output_type": "execute_result"
    },
    {
     "data": {
      "image/png": "[encoded data removed]",
      "text/plain": [
       "<Figure size 432x288 with 1 Axes>"
      ]
     },
     "metadata": {
      "needs_background": "light"
     },
     "output_type": "display_data"
    }
   ],
   "source": [
    "df.groupby('Loan Approved')['CoapplicantIncome'].mean().plot.bar()"
   ]
  },
  {
   "cell_type": "code",
   "execution_count": 32,
   "id": "cdc63a7a",
   "metadata": {},
   "outputs": [
    {
     "data": {
      "image/png": "[encoded data removed]",
      "text/plain": [
       "<Figure size 432x288 with 1 Axes>"
      ]
     },
     "metadata": {
      "needs_background": "light"
     },
     "output_type": "display_data"
    }
   ],
   "source": [
    "Income2=[0,600,1200,1600]\n",
    "group=['Low','Average','High']\n",
    "df['Income']=pd.cut(df['CoapplicantIncome'],Income2,labels=group)\n",
    "Income=pd.crosstab(df['Income'],df['Loan Approved'])\n",
    "Income.div(Income.sum(1).astype(float), axis=0).plot(kind='bar',stacked=True)\n",
    "plt.xlabel('CoapplicantIncome')\n",
    "P=plt.ylabel('percentage')"
   ]
  },
  {
   "cell_type": "markdown",
   "id": "c356e3ae",
   "metadata": {},
   "source": [
    "- this shows that when co-applicants income is less, the higher the chances of loan approval. But this is not right, we need to combine the both variables and count the total amount.  "
   ]
  },
  {
   "cell_type": "markdown",
   "id": "6a330e80",
   "metadata": {},
   "source": [
    "### Data Preprocessing"
   ]
  },
  {
   "cell_type": "markdown",
   "id": "5e3e6c52",
   "metadata": {},
   "source": [
    "#### Checking missing values in the dataframe"
   ]
  },
  {
   "cell_type": "code",
   "execution_count": 33,
   "id": "783b23d7",
   "metadata": {},
   "outputs": [
    {
     "data": {
      "text/plain": [
       "Loan_ID                0\n",
       "Gender                11\n",
       "Married                0\n",
       "Dependents            10\n",
       "Education              0\n",
       "Self_Employed         23\n",
       "ApplicantIncome        0\n",
       "CoapplicantIncome      0\n",
       "LoanAmount             5\n",
       "Loan_Amount_Term       6\n",
       "Credit_History        29\n",
       "Property_Area          0\n",
       "Loan Approved          0\n",
       "Income               305\n",
       "dtype: int64"
      ]
     },
     "execution_count": 33,
     "metadata": {},
     "output_type": "execute_result"
    }
   ],
   "source": [
    "df.isna().sum()"
   ]
  },
  {
   "cell_type": "code",
   "execution_count": 34,
   "id": "8cb0370b",
   "metadata": {},
   "outputs": [
    {
     "data": {
      "text/plain": [
       "<AxesSubplot:>"
      ]
     },
     "execution_count": 34,
     "metadata": {},
     "output_type": "execute_result"
    },
    {
     "data": {
      "image/png": "[encoded data removed]",
      "text/plain": [
       "<Figure size 1800x720 with 3 Axes>"
      ]
     },
     "metadata": {
      "needs_background": "light"
     },
     "output_type": "display_data"
    }
   ],
   "source": [
    "msno.bar(df) #bar plot"
   ]
  },
  {
   "cell_type": "code",
   "execution_count": 35,
   "id": "1674f931",
   "metadata": {},
   "outputs": [
    {
     "data": {
      "text/html": [
       "<div>\n",
       "<style scoped>\n",
       "    .dataframe tbody tr th:only-of-type {\n",
       "        vertical-align: middle;\n",
       "    }\n",
       "\n",
       "    .dataframe tbody tr th {\n",
       "        vertical-align: top;\n",
       "    }\n",
       "\n",
       "    .dataframe thead th {\n",
       "        text-align: right;\n",
       "    }\n",
       "</style>\n",
       "<table border=\"1\" class=\"dataframe\">\n",
       "  <thead>\n",
       "    <tr style=\"text-align: right;\">\n",
       "      <th></th>\n",
       "      <th>Gender</th>\n",
       "      <th>Married</th>\n",
       "      <th>Dependents</th>\n",
       "      <th>Education</th>\n",
       "      <th>Self_Employed</th>\n",
       "      <th>ApplicantIncome</th>\n",
       "      <th>CoapplicantIncome</th>\n",
       "      <th>LoanAmount</th>\n",
       "      <th>Loan_Amount_Term</th>\n",
       "      <th>Credit_History</th>\n",
       "      <th>Property_Area</th>\n",
       "      <th>Loan Approved</th>\n",
       "    </tr>\n",
       "  </thead>\n",
       "  <tbody>\n",
       "    <tr>\n",
       "      <th>0</th>\n",
       "      <td>Male</td>\n",
       "      <td>Yes</td>\n",
       "      <td>0</td>\n",
       "      <td>Graduate</td>\n",
       "      <td>No</td>\n",
       "      <td>5720</td>\n",
       "      <td>0</td>\n",
       "      <td>110.0</td>\n",
       "      <td>360.0</td>\n",
       "      <td>1.0</td>\n",
       "      <td>Urban</td>\n",
       "      <td>0</td>\n",
       "    </tr>\n",
       "    <tr>\n",
       "      <th>1</th>\n",
       "      <td>Male</td>\n",
       "      <td>Yes</td>\n",
       "      <td>1</td>\n",
       "      <td>Graduate</td>\n",
       "      <td>No</td>\n",
       "      <td>3076</td>\n",
       "      <td>1500</td>\n",
       "      <td>126.0</td>\n",
       "      <td>360.0</td>\n",
       "      <td>1.0</td>\n",
       "      <td>Urban</td>\n",
       "      <td>0</td>\n",
       "    </tr>\n",
       "    <tr>\n",
       "      <th>2</th>\n",
       "      <td>Male</td>\n",
       "      <td>Yes</td>\n",
       "      <td>2</td>\n",
       "      <td>Graduate</td>\n",
       "      <td>No</td>\n",
       "      <td>5000</td>\n",
       "      <td>1800</td>\n",
       "      <td>208.0</td>\n",
       "      <td>360.0</td>\n",
       "      <td>1.0</td>\n",
       "      <td>Urban</td>\n",
       "      <td>0</td>\n",
       "    </tr>\n",
       "    <tr>\n",
       "      <th>3</th>\n",
       "      <td>Male</td>\n",
       "      <td>Yes</td>\n",
       "      <td>2</td>\n",
       "      <td>Graduate</td>\n",
       "      <td>No</td>\n",
       "      <td>2340</td>\n",
       "      <td>2546</td>\n",
       "      <td>100.0</td>\n",
       "      <td>360.0</td>\n",
       "      <td>NaN</td>\n",
       "      <td>Urban</td>\n",
       "      <td>0</td>\n",
       "    </tr>\n",
       "    <tr>\n",
       "      <th>4</th>\n",
       "      <td>Male</td>\n",
       "      <td>No</td>\n",
       "      <td>0</td>\n",
       "      <td>Not Graduate</td>\n",
       "      <td>No</td>\n",
       "      <td>3276</td>\n",
       "      <td>0</td>\n",
       "      <td>78.0</td>\n",
       "      <td>360.0</td>\n",
       "      <td>1.0</td>\n",
       "      <td>Urban</td>\n",
       "      <td>0</td>\n",
       "    </tr>\n",
       "  </tbody>\n",
       "</table>\n",
       "</div>"
      ],
      "text/plain": [
       "  Gender Married Dependents     Education Self_Employed  ApplicantIncome  \\\n",
       "0   Male     Yes          0      Graduate            No             5720   \n",
       "1   Male     Yes          1      Graduate            No             3076   \n",
       "2   Male     Yes          2      Graduate            No             5000   \n",
       "3   Male     Yes          2      Graduate            No             2340   \n",
       "4   Male      No          0  Not Graduate            No             3276   \n",
       "\n",
       "   CoapplicantIncome  LoanAmount  Loan_Amount_Term  Credit_History  \\\n",
       "0                  0       110.0             360.0             1.0   \n",
       "1               1500       126.0             360.0             1.0   \n",
       "2               1800       208.0             360.0             1.0   \n",
       "3               2546       100.0             360.0             NaN   \n",
       "4                  0        78.0             360.0             1.0   \n",
       "\n",
       "  Property_Area  Loan Approved  \n",
       "0         Urban              0  \n",
       "1         Urban              0  \n",
       "2         Urban              0  \n",
       "3         Urban              0  \n",
       "4         Urban              0  "
      ]
     },
     "execution_count": 35,
     "metadata": {},
     "output_type": "execute_result"
    }
   ],
   "source": [
    "# dropping the unnecessary ones again\n",
    "\n",
    "df = df.drop(['Income', 'Loan_ID'], axis=1)\n",
    "df.head()"
   ]
  },
  {
   "cell_type": "code",
   "execution_count": 36,
   "id": "de1e652d",
   "metadata": {},
   "outputs": [
    {
     "name": "stdout",
     "output_type": "stream",
     "text": [
      "<class 'pandas.core.frame.DataFrame'>\n",
      "RangeIndex: 367 entries, 0 to 366\n",
      "Data columns (total 12 columns):\n",
      " #   Column             Non-Null Count  Dtype  \n",
      "---  ------             --------------  -----  \n",
      " 0   Gender             356 non-null    object \n",
      " 1   Married            367 non-null    object \n",
      " 2   Dependents         357 non-null    object \n",
      " 3   Education          367 non-null    object \n",
      " 4   Self_Employed      344 non-null    object \n",
      " 5   ApplicantIncome    367 non-null    int64  \n",
      " 6   CoapplicantIncome  367 non-null    int64  \n",
      " 7   LoanAmount         362 non-null    float64\n",
      " 8   Loan_Amount_Term   361 non-null    float64\n",
      " 9   Credit_History     338 non-null    float64\n",
      " 10  Property_Area      367 non-null    object \n",
      " 11  Loan Approved      367 non-null    int64  \n",
      "dtypes: float64(3), int64(3), object(6)\n",
      "memory usage: 34.5+ KB\n"
     ]
    }
   ],
   "source": [
    "df.info()"
   ]
  },
  {
   "cell_type": "markdown",
   "id": "8b67bda0",
   "metadata": {},
   "source": [
    "## Missing Values Treatment"
   ]
  },
  {
   "cell_type": "code",
   "execution_count": 37,
   "id": "a4769b90",
   "metadata": {},
   "outputs": [
    {
     "data": {
      "text/html": [
       "<div>\n",
       "<style scoped>\n",
       "    .dataframe tbody tr th:only-of-type {\n",
       "        vertical-align: middle;\n",
       "    }\n",
       "\n",
       "    .dataframe tbody tr th {\n",
       "        vertical-align: top;\n",
       "    }\n",
       "\n",
       "    .dataframe thead th {\n",
       "        text-align: right;\n",
       "    }\n",
       "</style>\n",
       "<table border=\"1\" class=\"dataframe\">\n",
       "  <thead>\n",
       "    <tr style=\"text-align: right;\">\n",
       "      <th></th>\n",
       "      <th>Gender</th>\n",
       "      <th>Married</th>\n",
       "      <th>Dependents</th>\n",
       "      <th>Education</th>\n",
       "      <th>Self_Employed</th>\n",
       "      <th>ApplicantIncome</th>\n",
       "      <th>CoapplicantIncome</th>\n",
       "      <th>LoanAmount</th>\n",
       "      <th>Loan_Amount_Term</th>\n",
       "      <th>Credit_History</th>\n",
       "      <th>Property_Area</th>\n",
       "      <th>Loan Approved</th>\n",
       "    </tr>\n",
       "  </thead>\n",
       "  <tbody>\n",
       "    <tr>\n",
       "      <th>0</th>\n",
       "      <td>Male</td>\n",
       "      <td>Yes</td>\n",
       "      <td>0</td>\n",
       "      <td>Graduate</td>\n",
       "      <td>No</td>\n",
       "      <td>5720</td>\n",
       "      <td>0</td>\n",
       "      <td>110.0</td>\n",
       "      <td>360.0</td>\n",
       "      <td>1.0</td>\n",
       "      <td>Urban</td>\n",
       "      <td>0</td>\n",
       "    </tr>\n",
       "    <tr>\n",
       "      <th>1</th>\n",
       "      <td>Male</td>\n",
       "      <td>Yes</td>\n",
       "      <td>1</td>\n",
       "      <td>Graduate</td>\n",
       "      <td>No</td>\n",
       "      <td>3076</td>\n",
       "      <td>1500</td>\n",
       "      <td>126.0</td>\n",
       "      <td>360.0</td>\n",
       "      <td>1.0</td>\n",
       "      <td>Urban</td>\n",
       "      <td>0</td>\n",
       "    </tr>\n",
       "    <tr>\n",
       "      <th>2</th>\n",
       "      <td>Male</td>\n",
       "      <td>Yes</td>\n",
       "      <td>2</td>\n",
       "      <td>Graduate</td>\n",
       "      <td>No</td>\n",
       "      <td>5000</td>\n",
       "      <td>1800</td>\n",
       "      <td>208.0</td>\n",
       "      <td>360.0</td>\n",
       "      <td>1.0</td>\n",
       "      <td>Urban</td>\n",
       "      <td>0</td>\n",
       "    </tr>\n",
       "    <tr>\n",
       "      <th>4</th>\n",
       "      <td>Male</td>\n",
       "      <td>No</td>\n",
       "      <td>0</td>\n",
       "      <td>Not Graduate</td>\n",
       "      <td>No</td>\n",
       "      <td>3276</td>\n",
       "      <td>0</td>\n",
       "      <td>78.0</td>\n",
       "      <td>360.0</td>\n",
       "      <td>1.0</td>\n",
       "      <td>Urban</td>\n",
       "      <td>0</td>\n",
       "    </tr>\n",
       "    <tr>\n",
       "      <th>5</th>\n",
       "      <td>Male</td>\n",
       "      <td>Yes</td>\n",
       "      <td>0</td>\n",
       "      <td>Not Graduate</td>\n",
       "      <td>Yes</td>\n",
       "      <td>2165</td>\n",
       "      <td>3422</td>\n",
       "      <td>152.0</td>\n",
       "      <td>360.0</td>\n",
       "      <td>1.0</td>\n",
       "      <td>Urban</td>\n",
       "      <td>0</td>\n",
       "    </tr>\n",
       "  </tbody>\n",
       "</table>\n",
       "</div>"
      ],
      "text/plain": [
       "  Gender Married Dependents     Education Self_Employed  ApplicantIncome  \\\n",
       "0   Male     Yes          0      Graduate            No             5720   \n",
       "1   Male     Yes          1      Graduate            No             3076   \n",
       "2   Male     Yes          2      Graduate            No             5000   \n",
       "4   Male      No          0  Not Graduate            No             3276   \n",
       "5   Male     Yes          0  Not Graduate           Yes             2165   \n",
       "\n",
       "   CoapplicantIncome  LoanAmount  Loan_Amount_Term  Credit_History  \\\n",
       "0                  0       110.0             360.0             1.0   \n",
       "1               1500       126.0             360.0             1.0   \n",
       "2               1800       208.0             360.0             1.0   \n",
       "4                  0        78.0             360.0             1.0   \n",
       "5               3422       152.0             360.0             1.0   \n",
       "\n",
       "  Property_Area  Loan Approved  \n",
       "0         Urban              0  \n",
       "1         Urban              0  \n",
       "2         Urban              0  \n",
       "4         Urban              0  \n",
       "5         Urban              0  "
      ]
     },
     "execution_count": 37,
     "metadata": {},
     "output_type": "execute_result"
    }
   ],
   "source": [
    "df = df.dropna()\n",
    "df.head()"
   ]
  },
  {
   "cell_type": "code",
   "execution_count": 38,
   "id": "2af57387",
   "metadata": {},
   "outputs": [
    {
     "data": {
      "text/plain": [
       "<AxesSubplot:>"
      ]
     },
     "execution_count": 38,
     "metadata": {},
     "output_type": "execute_result"
    },
    {
     "data": {
      "image/png": "[encoded data removed]",
      "text/plain": [
       "<Figure size 1800x720 with 3 Axes>"
      ]
     },
     "metadata": {
      "needs_background": "light"
     },
     "output_type": "display_data"
    }
   ],
   "source": [
    "msno.bar(df) #bar plot"
   ]
  },
  {
   "cell_type": "markdown",
   "id": "906d405d",
   "metadata": {},
   "source": [
    "**Label Enconding : Cateforical Data**"
   ]
  },
  {
   "cell_type": "markdown",
   "id": "679ee39a",
   "metadata": {},
   "source": [
    "Categorical features refer to string-type data and can be easily understood by human beings. But in the case of machines, they cannot interpret the categorical data directly. Therefore, the categorical data must be translated into numerical data that can be understood by machines.\n",
    "\n",
    "Machine learning models cannot interpret the categorical data. Hence, needs the translation to numerical format. There are many ways to convert categorical data into numerical data. Here will be using the method of label encoding."
   ]
  },
  {
   "cell_type": "code",
   "execution_count": 39,
   "id": "e4c2cb2f",
   "metadata": {},
   "outputs": [
    {
     "name": "stdout",
     "output_type": "stream",
     "text": [
      "['Male' 'Female']\n",
      "['Yes' 'No']\n",
      "['Graduate' 'Not Graduate']\n",
      "['No' 'Yes']\n",
      "['Urban' 'Semiurban' 'Rural']\n"
     ]
    }
   ],
   "source": [
    "#Checking the unique values of each columns in the dataset\n",
    "\n",
    "print (df['Gender'].unique()) \n",
    "print (df['Married'].unique()) \n",
    "print (df['Education'].unique()) \n",
    "print (df['Self_Employed'].unique()) \n",
    "print (df['Property_Area'].unique()) "
   ]
  },
  {
   "cell_type": "code",
   "execution_count": 40,
   "id": "fc988d27",
   "metadata": {},
   "outputs": [
    {
     "name": "stdout",
     "output_type": "stream",
     "text": [
      "['0' '1' '2' '3+']\n"
     ]
    }
   ],
   "source": [
    "print (df['Dependents'].unique()) "
   ]
  },
  {
   "cell_type": "code",
   "execution_count": 41,
   "id": "33a74d39",
   "metadata": {},
   "outputs": [
    {
     "data": {
      "text/plain": [
       "0     167\n",
       "2      50\n",
       "1      42\n",
       "3+     30\n",
       "Name: Dependents, dtype: int64"
      ]
     },
     "execution_count": 41,
     "metadata": {},
     "output_type": "execute_result"
    }
   ],
   "source": [
    "df['Dependents'].value_counts()"
   ]
  },
  {
   "cell_type": "code",
   "execution_count": 42,
   "id": "7efdb9b5",
   "metadata": {},
   "outputs": [
    {
     "data": {
      "text/html": [
       "<div>\n",
       "<style scoped>\n",
       "    .dataframe tbody tr th:only-of-type {\n",
       "        vertical-align: middle;\n",
       "    }\n",
       "\n",
       "    .dataframe tbody tr th {\n",
       "        vertical-align: top;\n",
       "    }\n",
       "\n",
       "    .dataframe thead th {\n",
       "        text-align: right;\n",
       "    }\n",
       "</style>\n",
       "<table border=\"1\" class=\"dataframe\">\n",
       "  <thead>\n",
       "    <tr style=\"text-align: right;\">\n",
       "      <th></th>\n",
       "      <th>Gender</th>\n",
       "      <th>Married</th>\n",
       "      <th>Dependents</th>\n",
       "      <th>Education</th>\n",
       "      <th>Self_Employed</th>\n",
       "      <th>ApplicantIncome</th>\n",
       "      <th>CoapplicantIncome</th>\n",
       "      <th>LoanAmount</th>\n",
       "      <th>Loan_Amount_Term</th>\n",
       "      <th>Credit_History</th>\n",
       "      <th>Property_Area</th>\n",
       "      <th>Loan Approved</th>\n",
       "    </tr>\n",
       "  </thead>\n",
       "  <tbody>\n",
       "    <tr>\n",
       "      <th>153</th>\n",
       "      <td>1</td>\n",
       "      <td>1</td>\n",
       "      <td>1</td>\n",
       "      <td>1</td>\n",
       "      <td>0</td>\n",
       "      <td>2463</td>\n",
       "      <td>2360</td>\n",
       "      <td>117.0</td>\n",
       "      <td>360.0</td>\n",
       "      <td>0.0</td>\n",
       "      <td>2</td>\n",
       "      <td>0</td>\n",
       "    </tr>\n",
       "    <tr>\n",
       "      <th>196</th>\n",
       "      <td>1</td>\n",
       "      <td>1</td>\n",
       "      <td>1</td>\n",
       "      <td>0</td>\n",
       "      <td>0</td>\n",
       "      <td>4796</td>\n",
       "      <td>0</td>\n",
       "      <td>114.0</td>\n",
       "      <td>360.0</td>\n",
       "      <td>0.0</td>\n",
       "      <td>1</td>\n",
       "      <td>0</td>\n",
       "    </tr>\n",
       "    <tr>\n",
       "      <th>249</th>\n",
       "      <td>1</td>\n",
       "      <td>0</td>\n",
       "      <td>0</td>\n",
       "      <td>0</td>\n",
       "      <td>0</td>\n",
       "      <td>2925</td>\n",
       "      <td>0</td>\n",
       "      <td>40.0</td>\n",
       "      <td>180.0</td>\n",
       "      <td>1.0</td>\n",
       "      <td>0</td>\n",
       "      <td>0</td>\n",
       "    </tr>\n",
       "    <tr>\n",
       "      <th>61</th>\n",
       "      <td>1</td>\n",
       "      <td>1</td>\n",
       "      <td>0</td>\n",
       "      <td>0</td>\n",
       "      <td>1</td>\n",
       "      <td>7016</td>\n",
       "      <td>292</td>\n",
       "      <td>125.0</td>\n",
       "      <td>360.0</td>\n",
       "      <td>1.0</td>\n",
       "      <td>2</td>\n",
       "      <td>0</td>\n",
       "    </tr>\n",
       "    <tr>\n",
       "      <th>94</th>\n",
       "      <td>1</td>\n",
       "      <td>1</td>\n",
       "      <td>1</td>\n",
       "      <td>0</td>\n",
       "      <td>0</td>\n",
       "      <td>4609</td>\n",
       "      <td>2333</td>\n",
       "      <td>123.0</td>\n",
       "      <td>360.0</td>\n",
       "      <td>0.0</td>\n",
       "      <td>1</td>\n",
       "      <td>0</td>\n",
       "    </tr>\n",
       "    <tr>\n",
       "      <th>140</th>\n",
       "      <td>1</td>\n",
       "      <td>0</td>\n",
       "      <td>0</td>\n",
       "      <td>0</td>\n",
       "      <td>0</td>\n",
       "      <td>4727</td>\n",
       "      <td>0</td>\n",
       "      <td>150.0</td>\n",
       "      <td>360.0</td>\n",
       "      <td>0.0</td>\n",
       "      <td>0</td>\n",
       "      <td>0</td>\n",
       "    </tr>\n",
       "    <tr>\n",
       "      <th>53</th>\n",
       "      <td>1</td>\n",
       "      <td>1</td>\n",
       "      <td>2</td>\n",
       "      <td>0</td>\n",
       "      <td>0</td>\n",
       "      <td>4116</td>\n",
       "      <td>1000</td>\n",
       "      <td>30.0</td>\n",
       "      <td>180.0</td>\n",
       "      <td>1.0</td>\n",
       "      <td>2</td>\n",
       "      <td>0</td>\n",
       "    </tr>\n",
       "    <tr>\n",
       "      <th>345</th>\n",
       "      <td>1</td>\n",
       "      <td>1</td>\n",
       "      <td>3</td>\n",
       "      <td>0</td>\n",
       "      <td>0</td>\n",
       "      <td>8334</td>\n",
       "      <td>0</td>\n",
       "      <td>260.0</td>\n",
       "      <td>360.0</td>\n",
       "      <td>1.0</td>\n",
       "      <td>2</td>\n",
       "      <td>0</td>\n",
       "    </tr>\n",
       "    <tr>\n",
       "      <th>10</th>\n",
       "      <td>1</td>\n",
       "      <td>0</td>\n",
       "      <td>0</td>\n",
       "      <td>1</td>\n",
       "      <td>0</td>\n",
       "      <td>3091</td>\n",
       "      <td>0</td>\n",
       "      <td>90.0</td>\n",
       "      <td>360.0</td>\n",
       "      <td>1.0</td>\n",
       "      <td>2</td>\n",
       "      <td>0</td>\n",
       "    </tr>\n",
       "    <tr>\n",
       "      <th>234</th>\n",
       "      <td>0</td>\n",
       "      <td>1</td>\n",
       "      <td>0</td>\n",
       "      <td>0</td>\n",
       "      <td>0</td>\n",
       "      <td>2157</td>\n",
       "      <td>1788</td>\n",
       "      <td>104.0</td>\n",
       "      <td>360.0</td>\n",
       "      <td>1.0</td>\n",
       "      <td>2</td>\n",
       "      <td>0</td>\n",
       "    </tr>\n",
       "  </tbody>\n",
       "</table>\n",
       "</div>"
      ],
      "text/plain": [
       "     Gender  Married  Dependents  Education  Self_Employed  ApplicantIncome  \\\n",
       "153       1        1           1          1              0             2463   \n",
       "196       1        1           1          0              0             4796   \n",
       "249       1        0           0          0              0             2925   \n",
       "61        1        1           0          0              1             7016   \n",
       "94        1        1           1          0              0             4609   \n",
       "140       1        0           0          0              0             4727   \n",
       "53        1        1           2          0              0             4116   \n",
       "345       1        1           3          0              0             8334   \n",
       "10        1        0           0          1              0             3091   \n",
       "234       0        1           0          0              0             2157   \n",
       "\n",
       "     CoapplicantIncome  LoanAmount  Loan_Amount_Term  Credit_History  \\\n",
       "153               2360       117.0             360.0             0.0   \n",
       "196                  0       114.0             360.0             0.0   \n",
       "249                  0        40.0             180.0             1.0   \n",
       "61                 292       125.0             360.0             1.0   \n",
       "94                2333       123.0             360.0             0.0   \n",
       "140                  0       150.0             360.0             0.0   \n",
       "53                1000        30.0             180.0             1.0   \n",
       "345                  0       260.0             360.0             1.0   \n",
       "10                   0        90.0             360.0             1.0   \n",
       "234               1788       104.0             360.0             1.0   \n",
       "\n",
       "     Property_Area  Loan Approved  \n",
       "153              2              0  \n",
       "196              1              0  \n",
       "249              0              0  \n",
       "61               2              0  \n",
       "94               1              0  \n",
       "140              0              0  \n",
       "53               2              0  \n",
       "345              2              0  \n",
       "10               2              0  \n",
       "234              2              0  "
      ]
     },
     "execution_count": 42,
     "metadata": {},
     "output_type": "execute_result"
    }
   ],
   "source": [
    "df['Gender']= label_encoder.fit_transform(df['Gender'])\n",
    "df['Married'] = label_encoder.fit_transform(df['Married']) \n",
    "df['Dependents']= label_encoder.fit_transform(df['Dependents']) \n",
    "df['Education']= label_encoder.fit_transform(df['Education']) \n",
    "df['Self_Employed']= label_encoder.fit_transform(df['Self_Employed']) \n",
    "df['Property_Area']= label_encoder.fit_transform(df['Property_Area'])\n",
    "df.sample(10)"
   ]
  },
  {
   "cell_type": "code",
   "execution_count": 43,
   "id": "97efc003",
   "metadata": {},
   "outputs": [
    {
     "name": "stdout",
     "output_type": "stream",
     "text": [
      "<class 'pandas.core.frame.DataFrame'>\n",
      "Int64Index: 289 entries, 0 to 366\n",
      "Data columns (total 12 columns):\n",
      " #   Column             Non-Null Count  Dtype  \n",
      "---  ------             --------------  -----  \n",
      " 0   Gender             289 non-null    int32  \n",
      " 1   Married            289 non-null    int32  \n",
      " 2   Dependents         289 non-null    int32  \n",
      " 3   Education          289 non-null    int32  \n",
      " 4   Self_Employed      289 non-null    int32  \n",
      " 5   ApplicantIncome    289 non-null    int64  \n",
      " 6   CoapplicantIncome  289 non-null    int64  \n",
      " 7   LoanAmount         289 non-null    float64\n",
      " 8   Loan_Amount_Term   289 non-null    float64\n",
      " 9   Credit_History     289 non-null    float64\n",
      " 10  Property_Area      289 non-null    int32  \n",
      " 11  Loan Approved      289 non-null    int64  \n",
      "dtypes: float64(3), int32(6), int64(3)\n",
      "memory usage: 22.6 KB\n"
     ]
    }
   ],
   "source": [
    "df.info()"
   ]
  },
  {
   "cell_type": "code",
   "execution_count": 44,
   "id": "6c73ae0f",
   "metadata": {},
   "outputs": [
    {
     "data": {
      "text/plain": [
       "['Gender',\n",
       " 'Married',\n",
       " 'Dependents',\n",
       " 'Education',\n",
       " 'Self_Employed',\n",
       " 'ApplicantIncome',\n",
       " 'CoapplicantIncome',\n",
       " 'LoanAmount',\n",
       " 'Loan_Amount_Term',\n",
       " 'Credit_History',\n",
       " 'Property_Area',\n",
       " 'Loan Approved']"
      ]
     },
     "execution_count": 44,
     "metadata": {},
     "output_type": "execute_result"
    }
   ],
   "source": [
    "df.columns.tolist()"
   ]
  },
  {
   "cell_type": "code",
   "execution_count": 45,
   "id": "9107a486",
   "metadata": {},
   "outputs": [],
   "source": [
    "## Total Income \n",
    "#as there is dependancy between the columns ApplicantIncome and CoapplicantIncome, to overcome the multicolinearity, \n",
    "#adding the two columns as Total Income\n"
   ]
  },
  {
   "cell_type": "code",
   "execution_count": 46,
   "id": "2242f7a5",
   "metadata": {},
   "outputs": [
    {
     "data": {
      "text/html": [
       "<div>\n",
       "<style scoped>\n",
       "    .dataframe tbody tr th:only-of-type {\n",
       "        vertical-align: middle;\n",
       "    }\n",
       "\n",
       "    .dataframe tbody tr th {\n",
       "        vertical-align: top;\n",
       "    }\n",
       "\n",
       "    .dataframe thead th {\n",
       "        text-align: right;\n",
       "    }\n",
       "</style>\n",
       "<table border=\"1\" class=\"dataframe\">\n",
       "  <thead>\n",
       "    <tr style=\"text-align: right;\">\n",
       "      <th></th>\n",
       "      <th>Gender</th>\n",
       "      <th>Married</th>\n",
       "      <th>Dependents</th>\n",
       "      <th>Education</th>\n",
       "      <th>Self_Employed</th>\n",
       "      <th>ApplicantIncome</th>\n",
       "      <th>CoapplicantIncome</th>\n",
       "      <th>LoanAmount</th>\n",
       "      <th>Loan_Amount_Term</th>\n",
       "      <th>Credit_History</th>\n",
       "      <th>Property_Area</th>\n",
       "      <th>Loan Approved</th>\n",
       "      <th>TotalIncome</th>\n",
       "    </tr>\n",
       "  </thead>\n",
       "  <tbody>\n",
       "    <tr>\n",
       "      <th>0</th>\n",
       "      <td>1</td>\n",
       "      <td>1</td>\n",
       "      <td>0</td>\n",
       "      <td>0</td>\n",
       "      <td>0</td>\n",
       "      <td>5720</td>\n",
       "      <td>0</td>\n",
       "      <td>110.0</td>\n",
       "      <td>360.0</td>\n",
       "      <td>1.0</td>\n",
       "      <td>2</td>\n",
       "      <td>0</td>\n",
       "      <td>5720</td>\n",
       "    </tr>\n",
       "    <tr>\n",
       "      <th>1</th>\n",
       "      <td>1</td>\n",
       "      <td>1</td>\n",
       "      <td>1</td>\n",
       "      <td>0</td>\n",
       "      <td>0</td>\n",
       "      <td>3076</td>\n",
       "      <td>1500</td>\n",
       "      <td>126.0</td>\n",
       "      <td>360.0</td>\n",
       "      <td>1.0</td>\n",
       "      <td>2</td>\n",
       "      <td>0</td>\n",
       "      <td>4576</td>\n",
       "    </tr>\n",
       "    <tr>\n",
       "      <th>2</th>\n",
       "      <td>1</td>\n",
       "      <td>1</td>\n",
       "      <td>2</td>\n",
       "      <td>0</td>\n",
       "      <td>0</td>\n",
       "      <td>5000</td>\n",
       "      <td>1800</td>\n",
       "      <td>208.0</td>\n",
       "      <td>360.0</td>\n",
       "      <td>1.0</td>\n",
       "      <td>2</td>\n",
       "      <td>0</td>\n",
       "      <td>6800</td>\n",
       "    </tr>\n",
       "    <tr>\n",
       "      <th>4</th>\n",
       "      <td>1</td>\n",
       "      <td>0</td>\n",
       "      <td>0</td>\n",
       "      <td>1</td>\n",
       "      <td>0</td>\n",
       "      <td>3276</td>\n",
       "      <td>0</td>\n",
       "      <td>78.0</td>\n",
       "      <td>360.0</td>\n",
       "      <td>1.0</td>\n",
       "      <td>2</td>\n",
       "      <td>0</td>\n",
       "      <td>3276</td>\n",
       "    </tr>\n",
       "    <tr>\n",
       "      <th>5</th>\n",
       "      <td>1</td>\n",
       "      <td>1</td>\n",
       "      <td>0</td>\n",
       "      <td>1</td>\n",
       "      <td>1</td>\n",
       "      <td>2165</td>\n",
       "      <td>3422</td>\n",
       "      <td>152.0</td>\n",
       "      <td>360.0</td>\n",
       "      <td>1.0</td>\n",
       "      <td>2</td>\n",
       "      <td>0</td>\n",
       "      <td>5587</td>\n",
       "    </tr>\n",
       "    <tr>\n",
       "      <th>...</th>\n",
       "      <td>...</td>\n",
       "      <td>...</td>\n",
       "      <td>...</td>\n",
       "      <td>...</td>\n",
       "      <td>...</td>\n",
       "      <td>...</td>\n",
       "      <td>...</td>\n",
       "      <td>...</td>\n",
       "      <td>...</td>\n",
       "      <td>...</td>\n",
       "      <td>...</td>\n",
       "      <td>...</td>\n",
       "      <td>...</td>\n",
       "    </tr>\n",
       "    <tr>\n",
       "      <th>361</th>\n",
       "      <td>1</td>\n",
       "      <td>1</td>\n",
       "      <td>1</td>\n",
       "      <td>0</td>\n",
       "      <td>0</td>\n",
       "      <td>2269</td>\n",
       "      <td>2167</td>\n",
       "      <td>99.0</td>\n",
       "      <td>360.0</td>\n",
       "      <td>1.0</td>\n",
       "      <td>1</td>\n",
       "      <td>0</td>\n",
       "      <td>4436</td>\n",
       "    </tr>\n",
       "    <tr>\n",
       "      <th>362</th>\n",
       "      <td>1</td>\n",
       "      <td>1</td>\n",
       "      <td>3</td>\n",
       "      <td>1</td>\n",
       "      <td>1</td>\n",
       "      <td>4009</td>\n",
       "      <td>1777</td>\n",
       "      <td>113.0</td>\n",
       "      <td>360.0</td>\n",
       "      <td>1.0</td>\n",
       "      <td>2</td>\n",
       "      <td>0</td>\n",
       "      <td>5786</td>\n",
       "    </tr>\n",
       "    <tr>\n",
       "      <th>363</th>\n",
       "      <td>1</td>\n",
       "      <td>1</td>\n",
       "      <td>0</td>\n",
       "      <td>0</td>\n",
       "      <td>0</td>\n",
       "      <td>4158</td>\n",
       "      <td>709</td>\n",
       "      <td>115.0</td>\n",
       "      <td>360.0</td>\n",
       "      <td>1.0</td>\n",
       "      <td>2</td>\n",
       "      <td>0</td>\n",
       "      <td>4867</td>\n",
       "    </tr>\n",
       "    <tr>\n",
       "      <th>365</th>\n",
       "      <td>1</td>\n",
       "      <td>1</td>\n",
       "      <td>0</td>\n",
       "      <td>0</td>\n",
       "      <td>0</td>\n",
       "      <td>5000</td>\n",
       "      <td>2393</td>\n",
       "      <td>158.0</td>\n",
       "      <td>360.0</td>\n",
       "      <td>1.0</td>\n",
       "      <td>0</td>\n",
       "      <td>0</td>\n",
       "      <td>7393</td>\n",
       "    </tr>\n",
       "    <tr>\n",
       "      <th>366</th>\n",
       "      <td>1</td>\n",
       "      <td>0</td>\n",
       "      <td>0</td>\n",
       "      <td>0</td>\n",
       "      <td>1</td>\n",
       "      <td>9200</td>\n",
       "      <td>0</td>\n",
       "      <td>98.0</td>\n",
       "      <td>180.0</td>\n",
       "      <td>1.0</td>\n",
       "      <td>0</td>\n",
       "      <td>0</td>\n",
       "      <td>9200</td>\n",
       "    </tr>\n",
       "  </tbody>\n",
       "</table>\n",
       "<p>289 rows × 13 columns</p>\n",
       "</div>"
      ],
      "text/plain": [
       "     Gender  Married  Dependents  Education  Self_Employed  ApplicantIncome  \\\n",
       "0         1        1           0          0              0             5720   \n",
       "1         1        1           1          0              0             3076   \n",
       "2         1        1           2          0              0             5000   \n",
       "4         1        0           0          1              0             3276   \n",
       "5         1        1           0          1              1             2165   \n",
       "..      ...      ...         ...        ...            ...              ...   \n",
       "361       1        1           1          0              0             2269   \n",
       "362       1        1           3          1              1             4009   \n",
       "363       1        1           0          0              0             4158   \n",
       "365       1        1           0          0              0             5000   \n",
       "366       1        0           0          0              1             9200   \n",
       "\n",
       "     CoapplicantIncome  LoanAmount  Loan_Amount_Term  Credit_History  \\\n",
       "0                    0       110.0             360.0             1.0   \n",
       "1                 1500       126.0             360.0             1.0   \n",
       "2                 1800       208.0             360.0             1.0   \n",
       "4                    0        78.0             360.0             1.0   \n",
       "5                 3422       152.0             360.0             1.0   \n",
       "..                 ...         ...               ...             ...   \n",
       "361               2167        99.0             360.0             1.0   \n",
       "362               1777       113.0             360.0             1.0   \n",
       "363                709       115.0             360.0             1.0   \n",
       "365               2393       158.0             360.0             1.0   \n",
       "366                  0        98.0             180.0             1.0   \n",
       "\n",
       "     Property_Area  Loan Approved  TotalIncome  \n",
       "0                2              0         5720  \n",
       "1                2              0         4576  \n",
       "2                2              0         6800  \n",
       "4                2              0         3276  \n",
       "5                2              0         5587  \n",
       "..             ...            ...          ...  \n",
       "361              1              0         4436  \n",
       "362              2              0         5786  \n",
       "363              2              0         4867  \n",
       "365              0              0         7393  \n",
       "366              0              0         9200  \n",
       "\n",
       "[289 rows x 13 columns]"
      ]
     },
     "execution_count": 46,
     "metadata": {},
     "output_type": "execute_result"
    }
   ],
   "source": [
    "df['TotalIncome']= df['ApplicantIncome'] + df['CoapplicantIncome'] \n",
    "df"
   ]
  },
  {
   "cell_type": "code",
   "execution_count": 47,
   "id": "a362094d",
   "metadata": {},
   "outputs": [
    {
     "data": {
      "text/html": [
       "<div>\n",
       "<style scoped>\n",
       "    .dataframe tbody tr th:only-of-type {\n",
       "        vertical-align: middle;\n",
       "    }\n",
       "\n",
       "    .dataframe tbody tr th {\n",
       "        vertical-align: top;\n",
       "    }\n",
       "\n",
       "    .dataframe thead th {\n",
       "        text-align: right;\n",
       "    }\n",
       "</style>\n",
       "<table border=\"1\" class=\"dataframe\">\n",
       "  <thead>\n",
       "    <tr style=\"text-align: right;\">\n",
       "      <th></th>\n",
       "      <th>Gender</th>\n",
       "      <th>Married</th>\n",
       "      <th>Dependents</th>\n",
       "      <th>Education</th>\n",
       "      <th>Self_Employed</th>\n",
       "      <th>LoanAmount</th>\n",
       "      <th>Loan_Amount_Term</th>\n",
       "      <th>Credit_History</th>\n",
       "      <th>Property_Area</th>\n",
       "      <th>Loan Approved</th>\n",
       "      <th>TotalIncome</th>\n",
       "    </tr>\n",
       "  </thead>\n",
       "  <tbody>\n",
       "    <tr>\n",
       "      <th>55</th>\n",
       "      <td>1</td>\n",
       "      <td>0</td>\n",
       "      <td>0</td>\n",
       "      <td>0</td>\n",
       "      <td>0</td>\n",
       "      <td>130.0</td>\n",
       "      <td>360.0</td>\n",
       "      <td>0.0</td>\n",
       "      <td>2</td>\n",
       "      <td>0</td>\n",
       "      <td>2750</td>\n",
       "    </tr>\n",
       "    <tr>\n",
       "      <th>196</th>\n",
       "      <td>1</td>\n",
       "      <td>1</td>\n",
       "      <td>1</td>\n",
       "      <td>0</td>\n",
       "      <td>0</td>\n",
       "      <td>114.0</td>\n",
       "      <td>360.0</td>\n",
       "      <td>0.0</td>\n",
       "      <td>1</td>\n",
       "      <td>0</td>\n",
       "      <td>4796</td>\n",
       "    </tr>\n",
       "    <tr>\n",
       "      <th>233</th>\n",
       "      <td>0</td>\n",
       "      <td>0</td>\n",
       "      <td>1</td>\n",
       "      <td>0</td>\n",
       "      <td>0</td>\n",
       "      <td>92.0</td>\n",
       "      <td>360.0</td>\n",
       "      <td>1.0</td>\n",
       "      <td>1</td>\n",
       "      <td>0</td>\n",
       "      <td>7600</td>\n",
       "    </tr>\n",
       "    <tr>\n",
       "      <th>63</th>\n",
       "      <td>0</td>\n",
       "      <td>0</td>\n",
       "      <td>0</td>\n",
       "      <td>0</td>\n",
       "      <td>0</td>\n",
       "      <td>108.0</td>\n",
       "      <td>360.0</td>\n",
       "      <td>0.0</td>\n",
       "      <td>0</td>\n",
       "      <td>1</td>\n",
       "      <td>3601</td>\n",
       "    </tr>\n",
       "    <tr>\n",
       "      <th>137</th>\n",
       "      <td>1</td>\n",
       "      <td>1</td>\n",
       "      <td>1</td>\n",
       "      <td>0</td>\n",
       "      <td>0</td>\n",
       "      <td>120.0</td>\n",
       "      <td>360.0</td>\n",
       "      <td>1.0</td>\n",
       "      <td>0</td>\n",
       "      <td>0</td>\n",
       "      <td>4939</td>\n",
       "    </tr>\n",
       "    <tr>\n",
       "      <th>88</th>\n",
       "      <td>1</td>\n",
       "      <td>0</td>\n",
       "      <td>2</td>\n",
       "      <td>1</td>\n",
       "      <td>0</td>\n",
       "      <td>77.0</td>\n",
       "      <td>360.0</td>\n",
       "      <td>1.0</td>\n",
       "      <td>1</td>\n",
       "      <td>0</td>\n",
       "      <td>5250</td>\n",
       "    </tr>\n",
       "    <tr>\n",
       "      <th>172</th>\n",
       "      <td>1</td>\n",
       "      <td>1</td>\n",
       "      <td>0</td>\n",
       "      <td>0</td>\n",
       "      <td>0</td>\n",
       "      <td>143.0</td>\n",
       "      <td>360.0</td>\n",
       "      <td>1.0</td>\n",
       "      <td>0</td>\n",
       "      <td>0</td>\n",
       "      <td>5225</td>\n",
       "    </tr>\n",
       "    <tr>\n",
       "      <th>169</th>\n",
       "      <td>0</td>\n",
       "      <td>1</td>\n",
       "      <td>1</td>\n",
       "      <td>0</td>\n",
       "      <td>0</td>\n",
       "      <td>79.0</td>\n",
       "      <td>360.0</td>\n",
       "      <td>1.0</td>\n",
       "      <td>0</td>\n",
       "      <td>0</td>\n",
       "      <td>3564</td>\n",
       "    </tr>\n",
       "    <tr>\n",
       "      <th>337</th>\n",
       "      <td>1</td>\n",
       "      <td>1</td>\n",
       "      <td>0</td>\n",
       "      <td>0</td>\n",
       "      <td>0</td>\n",
       "      <td>119.0</td>\n",
       "      <td>360.0</td>\n",
       "      <td>1.0</td>\n",
       "      <td>2</td>\n",
       "      <td>0</td>\n",
       "      <td>3850</td>\n",
       "    </tr>\n",
       "    <tr>\n",
       "      <th>221</th>\n",
       "      <td>1</td>\n",
       "      <td>1</td>\n",
       "      <td>0</td>\n",
       "      <td>1</td>\n",
       "      <td>0</td>\n",
       "      <td>149.0</td>\n",
       "      <td>360.0</td>\n",
       "      <td>1.0</td>\n",
       "      <td>0</td>\n",
       "      <td>1</td>\n",
       "      <td>5668</td>\n",
       "    </tr>\n",
       "  </tbody>\n",
       "</table>\n",
       "</div>"
      ],
      "text/plain": [
       "     Gender  Married  Dependents  Education  Self_Employed  LoanAmount  \\\n",
       "55        1        0           0          0              0       130.0   \n",
       "196       1        1           1          0              0       114.0   \n",
       "233       0        0           1          0              0        92.0   \n",
       "63        0        0           0          0              0       108.0   \n",
       "137       1        1           1          0              0       120.0   \n",
       "88        1        0           2          1              0        77.0   \n",
       "172       1        1           0          0              0       143.0   \n",
       "169       0        1           1          0              0        79.0   \n",
       "337       1        1           0          0              0       119.0   \n",
       "221       1        1           0          1              0       149.0   \n",
       "\n",
       "     Loan_Amount_Term  Credit_History  Property_Area  Loan Approved  \\\n",
       "55              360.0             0.0              2              0   \n",
       "196             360.0             0.0              1              0   \n",
       "233             360.0             1.0              1              0   \n",
       "63              360.0             0.0              0              1   \n",
       "137             360.0             1.0              0              0   \n",
       "88              360.0             1.0              1              0   \n",
       "172             360.0             1.0              0              0   \n",
       "169             360.0             1.0              0              0   \n",
       "337             360.0             1.0              2              0   \n",
       "221             360.0             1.0              0              1   \n",
       "\n",
       "     TotalIncome  \n",
       "55          2750  \n",
       "196         4796  \n",
       "233         7600  \n",
       "63          3601  \n",
       "137         4939  \n",
       "88          5250  \n",
       "172         5225  \n",
       "169         3564  \n",
       "337         3850  \n",
       "221         5668  "
      ]
     },
     "execution_count": 47,
     "metadata": {},
     "output_type": "execute_result"
    }
   ],
   "source": [
    "# dropping the unnecessary ones again\n",
    "\n",
    "df = df.drop(['ApplicantIncome','CoapplicantIncome'], axis=1)\n",
    "df.sample(10)"
   ]
  },
  {
   "cell_type": "code",
   "execution_count": 48,
   "id": "a501afd1",
   "metadata": {},
   "outputs": [
    {
     "ename": "SyntaxError",
     "evalue": "invalid syntax (Temp/ipykernel_12004/2785131416.py, line 1)",
     "output_type": "error",
     "traceback": [
      "\u001b[1;36m  File \u001b[1;32m\"C:\\Users\\ASUS\\AppData\\Local\\Temp/ipykernel_12004/2785131416.py\"\u001b[1;36m, line \u001b[1;32m1\u001b[0m\n\u001b[1;33m    correlation after preprocessing\u001b[0m\n\u001b[1;37m                ^\u001b[0m\n\u001b[1;31mSyntaxError\u001b[0m\u001b[1;31m:\u001b[0m invalid syntax\n"
     ]
    }
   ],
   "source": [
    "correlation after preprocessing"
   ]
  },
  {
   "cell_type": "code",
   "execution_count": 49,
   "id": "00b92ea3",
   "metadata": {},
   "outputs": [
    {
     "data": {
      "text/plain": [
       "<AxesSubplot:>"
      ]
     },
     "execution_count": 49,
     "metadata": {},
     "output_type": "execute_result"
    },
    {
     "data": {
      "image/png": "[encoded data removed]",
      "text/plain": [
       "<Figure size 1440x720 with 2 Axes>"
      ]
     },
     "metadata": {
      "needs_background": "light"
     },
     "output_type": "display_data"
    }
   ],
   "source": [
    "corrmat = df.corr()\n",
    "cmap = sns.diverging_palette(260,-10,s=50, l=75, n=6, as_cmap=True)\n",
    "plt.subplots(figsize=(20,10))\n",
    "sns.heatmap(corrmat,cmap= cmap, annot=True, square=True)\n"
   ]
  },
  {
   "cell_type": "markdown",
   "id": "051d3ecc",
   "metadata": {},
   "source": [
    "## Feature Selection"
   ]
  },
  {
   "cell_type": "markdown",
   "id": "62f24a7c",
   "metadata": {},
   "source": [
    "### Target Variable : Y\n",
    "- Loan Approced\n",
    "- Through this model I want to predict the eligibility of Loan Approval and the Loan Amount. There would a predictive model on \n",
    "  -  **Loan Approval Prediction Model(Classification)** : depending on the other features if anyone is eligible to get the approval of loans\n",
    "\n",
    "### Independent Variables(X0, X1, ....................................., Xn)\n",
    "-  'Gender',\n",
    " 'Married',\n",
    " 'Dependents',\n",
    " 'Education',\n",
    " 'Self_Employed',\n",
    " 'TotalIncome',\n",
    " 'LoanAmount',\n",
    " 'Loan_Amount_Term',\n",
    " 'Credit_History',\n",
    " 'Property_Area']\n",
    "   "
   ]
  },
  {
   "cell_type": "code",
   "execution_count": 50,
   "id": "f51839d9",
   "metadata": {},
   "outputs": [],
   "source": [
    "X = df[['Gender',\n",
    " 'Married',\n",
    " 'Dependents',\n",
    " 'Education',\n",
    " 'Self_Employed',\n",
    " 'TotalIncome',\n",
    " 'LoanAmount',\n",
    " 'Loan_Amount_Term',\n",
    " 'Credit_History',\n",
    " 'Property_Area']]\n",
    "y = df['Loan Approved']"
   ]
  },
  {
   "cell_type": "markdown",
   "id": "e23089b5",
   "metadata": {},
   "source": [
    "## Data Splitting "
   ]
  },
  {
   "cell_type": "code",
   "execution_count": 51,
   "id": "684ed06c",
   "metadata": {},
   "outputs": [],
   "source": [
    "from sklearn.model_selection import train_test_split     \n",
    "X_train, X_test, y_train, y_test = train_test_split(X,y, test_size=0.2, random_state=20)"
   ]
  },
  {
   "cell_type": "code",
   "execution_count": 52,
   "id": "eea5cc41",
   "metadata": {},
   "outputs": [],
   "source": [
    "from sklearn.preprocessing import StandardScaler  \n",
    "scaler = StandardScaler()  \n",
    "scaler.fit(X_train)  \n",
    "X_train = scaler.transform(X_train)  \n",
    "# apply same transformation to test data\n",
    "X_test = scaler.transform(X_test)  "
   ]
  },
  {
   "cell_type": "code",
   "execution_count": 53,
   "id": "4e458f8a",
   "metadata": {},
   "outputs": [
    {
     "data": {
      "text/plain": [
       "array([[ 0.52558833,  0.72092776,  1.11912363, -0.54566731, -0.34050261,\n",
       "         0.10927379, -1.5267299 ,  0.24866737, -2.25365201, -1.27777594],\n",
       "       [ 0.52558833,  0.72092776, -0.78174077, -0.54566731, -0.34050261,\n",
       "        -0.30680922, -0.51934515,  0.24866737,  0.44372423, -0.07301577],\n",
       "       [ 0.52558833,  0.72092776,  2.06955583, -0.54566731, -0.34050261,\n",
       "        -0.31941218, -0.46537811,  0.24866737,  0.44372423, -0.07301577],\n",
       "       [ 0.52558833, -1.38710152, -0.78174077, -0.54566731, -0.34050261,\n",
       "         0.57576864,  1.18961112,  0.24866737,  0.44372423, -0.07301577],\n",
       "       [ 0.52558833,  0.72092776, -0.78174077, -0.54566731, -0.34050261,\n",
       "        -0.32163623, -0.15956488,  0.24866737,  0.44372423,  1.1317444 ],\n",
       "       [ 0.52558833,  0.72092776, -0.78174077, -0.54566731,  2.93683503,\n",
       "        -0.59259986,  0.05630328, -0.66504678,  0.44372423, -1.27777594],\n",
       "       [ 0.52558833, -1.38710152, -0.78174077, -0.54566731, -0.34050261,\n",
       "        -0.36945334, -0.91510344, -3.95441771,  0.44372423,  1.1317444 ],\n",
       "       [ 0.52558833,  0.72092776, -0.78174077, -0.54566731, -0.34050261,\n",
       "        -0.08106797,  0.93776493,  0.24866737,  0.44372423,  1.1317444 ],\n",
       "       [ 0.52558833, -1.38710152, -0.78174077, -0.54566731, -0.34050261,\n",
       "        -0.23471288,  0.29016045,  0.24866737, -2.25365201, -1.27777594],\n",
       "       [ 0.52558833,  0.72092776,  0.16869143, -0.54566731,  2.93683503,\n",
       "         0.27922841, -1.05901555,  0.24866737,  0.44372423,  1.1317444 ],\n",
       "       [ 0.52558833,  0.72092776, -0.78174077, -0.54566731, -0.34050261,\n",
       "         0.97424457,  2.53878711,  0.24866737,  0.44372423,  1.1317444 ],\n",
       "       [-1.90262976, -1.38710152, -0.78174077, -0.54566731, -0.34050261,\n",
       "        -0.43543354, -0.42940008,  0.24866737,  0.44372423,  1.1317444 ],\n",
       "       [ 0.52558833,  0.72092776,  0.16869143, -0.54566731, -0.34050261,\n",
       "        -0.28864613, -0.62727923,  0.24866737,  0.44372423, -0.07301577],\n",
       "       [ 0.52558833,  0.72092776,  0.16869143, -0.54566731,  2.93683503,\n",
       "        -0.05159928, -0.84314739, -1.57876092,  0.44372423, -1.27777594],\n",
       "       [ 0.52558833, -1.38710152, -0.78174077, -0.54566731, -0.34050261,\n",
       "        -0.01731182,  0.29016045,  0.24866737,  0.44372423,  1.1317444 ],\n",
       "       [ 0.52558833, -1.38710152, -0.78174077, -0.54566731, -0.34050261,\n",
       "        -0.02435465,  0.45206157, -2.49247507, -2.25365201,  1.1317444 ],\n",
       "       [ 0.52558833,  0.72092776, -0.78174077,  1.8326185 , -0.34050261,\n",
       "        -0.34424742, -0.42940008,  0.24866737,  0.44372423, -0.07301577],\n",
       "       [ 0.52558833, -1.38710152, -0.78174077, -0.54566731, -0.34050261,\n",
       "        -0.07606385, -0.321466  ,  0.24866737,  0.44372423,  1.1317444 ],\n",
       "       [-1.90262976,  0.72092776, -0.78174077, -0.54566731, -0.34050261,\n",
       "         0.50867641,  0.55999565, -2.49247507,  0.44372423, -0.07301577],\n",
       "       [-1.90262976,  0.72092776,  2.06955583,  1.8326185 , -0.34050261,\n",
       "        -0.35481167, -0.62727923,  0.24866737,  0.44372423,  1.1317444 ],\n",
       "       [ 0.52558833, -1.38710152,  1.11912363,  1.8326185 , -0.34050261,\n",
       "        -0.13778129, -1.02303752,  0.24866737,  0.44372423, -0.07301577],\n",
       "       [ 0.52558833,  0.72092776,  2.06955583,  1.8326185 , -0.34050261,\n",
       "        -0.45804474, -0.95108147, -2.49247507,  0.44372423, -1.27777594],\n",
       "       [-1.90262976, -1.38710152, -0.78174077, -0.54566731, -0.34050261,\n",
       "         1.20591663,  2.98851245,  0.24866737, -2.25365201,  1.1317444 ],\n",
       "       [ 0.52558833,  0.72092776,  0.16869143, -0.54566731, -0.34050261,\n",
       "         1.24113078,  5.00328194,  0.24866737,  0.44372423, -0.07301577],\n",
       "       [-1.90262976, -1.38710152,  2.06955583,  1.8326185 , -0.34050261,\n",
       "        -0.7247456 , -1.90449918, -2.49247507,  0.44372423,  1.1317444 ],\n",
       "       [ 0.52558833,  0.72092776,  1.11912363, -0.54566731, -0.34050261,\n",
       "         1.08377912,  3.63611693,  0.24866737,  0.44372423, -1.27777594],\n",
       "       [ 0.52558833,  0.72092776, -0.78174077,  1.8326185 , -0.34050261,\n",
       "        -0.23971699,  0.02032525,  0.24866737, -2.25365201, -0.07301577],\n",
       "       [ 0.52558833, -1.38710152, -0.78174077, -0.54566731,  2.93683503,\n",
       "         0.06720215, -1.50874088,  0.24866737,  0.44372423, -1.27777594],\n",
       "       [ 0.52558833, -1.38710152,  0.16869143, -0.54566731, -0.34050261,\n",
       "         3.48501363,  1.90917165,  0.24866737,  0.44372423, -0.07301577],\n",
       "       [ 0.52558833,  0.72092776, -0.78174077, -0.54566731, -0.34050261,\n",
       "        -0.17855557, -0.19554291,  0.24866737,  0.44372423, -0.07301577],\n",
       "       [-1.90262976, -1.38710152,  0.16869143,  1.8326185 , -0.34050261,\n",
       "         0.26606944, -0.30347699,  0.24866737,  0.44372423, -1.27777594],\n",
       "       [ 0.52558833,  0.72092776, -0.78174077, -0.54566731, -0.34050261,\n",
       "         0.03995751,  0.02032525,  0.24866737,  0.44372423,  1.1317444 ],\n",
       "       [ 0.52558833, -1.38710152, -0.78174077, -0.54566731, -0.34050261,\n",
       "        -0.30773591, -1.22091667,  2.07609567,  0.44372423,  1.1317444 ],\n",
       "       [ 0.52558833,  0.72092776, -0.78174077, -0.54566731, -0.34050261,\n",
       "         0.74498191,  1.40547928,  0.24866737,  0.44372423, -1.27777594],\n",
       "       [ 0.52558833, -1.38710152, -0.78174077, -0.54566731,  2.93683503,\n",
       "        -0.02972944, -0.321466  ,  0.24866737,  0.44372423,  1.1317444 ],\n",
       "       [ 0.52558833,  0.72092776, -0.78174077, -0.54566731,  2.93683503,\n",
       "         0.27070288, -0.21353192, -2.49247507,  0.44372423, -0.07301577],\n",
       "       [-1.90262976, -1.38710152, -0.78174077, -0.54566731, -0.34050261,\n",
       "         0.12465682,  0.50602861,  0.24866737, -2.25365201, -1.27777594],\n",
       "       [ 0.52558833,  0.72092776, -0.78174077, -0.54566731, -0.34050261,\n",
       "        -0.0506726 , -0.42940008,  0.24866737,  0.44372423,  1.1317444 ],\n",
       "       [ 0.52558833,  0.72092776,  0.16869143, -0.54566731,  2.93683503,\n",
       "         0.1226181 ,  1.40547928,  0.24866737,  0.44372423, -1.27777594],\n",
       "       [ 0.52558833,  0.72092776,  2.06955583,  1.8326185 ,  2.93683503,\n",
       "        -0.03844031, -0.37543304,  0.24866737,  0.44372423,  1.1317444 ],\n",
       "       [-1.90262976,  0.72092776, -0.78174077, -0.54566731, -0.34050261,\n",
       "         0.36263035,  0.91977592,  0.24866737,  0.44372423,  1.1317444 ],\n",
       "       [ 0.52558833,  0.72092776, -0.78174077, -0.54566731, -0.34050261,\n",
       "         2.06625397,  2.98851245,  0.24866737,  0.44372423,  1.1317444 ],\n",
       "       [ 0.52558833,  0.72092776,  1.11912363, -0.54566731, -0.34050261,\n",
       "         0.19953322,  1.04569901,  0.24866737,  0.44372423,  1.1317444 ],\n",
       "       [ 0.52558833,  0.72092776, -0.78174077, -0.54566731, -0.34050261,\n",
       "        -0.20876561, -0.33945502,  0.24866737,  0.44372423,  1.1317444 ],\n",
       "       [ 0.52558833, -1.38710152, -0.78174077,  1.8326185 , -0.34050261,\n",
       "        -0.69045814,  0.64994072,  0.24866737, -2.25365201, -0.07301577],\n",
       "       [ 0.52558833, -1.38710152, -0.78174077, -0.54566731, -0.34050261,\n",
       "         0.25698789,  0.82983085,  0.24866737,  0.44372423,  1.1317444 ],\n",
       "       [ 0.52558833,  0.72092776,  2.06955583, -0.54566731, -0.34050261,\n",
       "         0.52313275,  1.13564408,  0.24866737,  0.44372423,  1.1317444 ],\n",
       "       [-1.90262976,  0.72092776,  2.06955583, -0.54566731, -0.34050261,\n",
       "         0.04940973, -0.42940008,  0.24866737,  0.44372423, -0.07301577],\n",
       "       [ 0.52558833,  0.72092776,  2.06955583,  1.8326185 , -0.34050261,\n",
       "        -0.10794193,  0.66792973,  0.24866737,  0.44372423, -0.07301577],\n",
       "       [ 0.52558833,  0.72092776, -0.78174077, -0.54566731, -0.34050261,\n",
       "         0.5425932 ,  0.47005058,  0.24866737,  0.44372423, -1.27777594],\n",
       "       [ 0.52558833,  0.72092776,  1.11912363,  1.8326185 , -0.34050261,\n",
       "        -0.05345266,  0.29016045,  0.24866737,  0.44372423, -0.07301577],\n",
       "       [ 0.52558833, -1.38710152, -0.78174077,  1.8326185 , -0.34050261,\n",
       "        -0.39836601, -0.51934515,  0.24866737,  0.44372423,  1.1317444 ],\n",
       "       [ 0.52558833,  0.72092776, -0.78174077, -0.54566731, -0.34050261,\n",
       "        -0.1841157 , -0.14157587,  0.24866737,  0.44372423, -1.27777594],\n",
       "       [ 0.52558833,  0.72092776,  0.16869143, -0.54566731, -0.34050261,\n",
       "         2.38095728,  1.80123757,  0.24866737,  0.44372423, -1.27777594],\n",
       "       [ 0.52558833, -1.38710152, -0.78174077, -0.54566731, -0.34050261,\n",
       "        -0.35407032, -0.68124627,  0.24866737,  0.44372423,  1.1317444 ],\n",
       "       [ 0.52558833, -1.38710152, -0.78174077, -0.54566731, -0.34050261,\n",
       "         0.54129584,  0.95575394,  0.24866737, -2.25365201, -1.27777594],\n",
       "       [ 0.52558833, -1.38710152, -0.78174077, -0.54566731, -0.34050261,\n",
       "        -0.53162378, -1.23890568,  0.24866737,  0.44372423,  1.1317444 ],\n",
       "       [ 0.52558833, -1.38710152, -0.78174077, -0.54566731, -0.34050261,\n",
       "        -0.28568073, -0.0516308 ,  0.24866737,  0.44372423, -1.27777594]])"
      ]
     },
     "execution_count": 53,
     "metadata": {},
     "output_type": "execute_result"
    }
   ],
   "source": [
    "X_test"
   ]
  },
  {
   "cell_type": "code",
   "execution_count": 54,
   "id": "0d5be7e4",
   "metadata": {},
   "outputs": [],
   "source": [
    "nameOfClassifiers=[]\n",
    "Accuracy=[]"
   ]
  },
  {
   "cell_type": "markdown",
   "id": "72d1191b",
   "metadata": {},
   "source": [
    "# Logistic Regression Classifier"
   ]
  },
  {
   "cell_type": "code",
   "execution_count": 55,
   "id": "771f5f00",
   "metadata": {},
   "outputs": [
    {
     "name": "stdout",
     "output_type": "stream",
     "text": [
      "The accuracy of Logistic Regression Classifier Model is 0.90\n"
     ]
    }
   ],
   "source": [
    "from sklearn.linear_model import LogisticRegression\n",
    "lr = LogisticRegression(random_state=0).fit(X_train, y_train)\n",
    "lr.score(X_test, y_test)\n",
    "\n",
    "print(\"The accuracy of Logistic Regression Classifier Model is {:.2f}\".format(lr.score(X_test, y_test)))\n",
    "nameOfClassifiers.append(\"Logistic Regression Classifier\")\n",
    "Accuracy.append(lr.score(X_test, y_test))"
   ]
  },
  {
   "cell_type": "markdown",
   "id": "ece92cea",
   "metadata": {},
   "source": [
    "# RandomForestClassifier"
   ]
  },
  {
   "cell_type": "code",
   "execution_count": 56,
   "id": "448fa0b0",
   "metadata": {},
   "outputs": [
    {
     "name": "stdout",
     "output_type": "stream",
     "text": [
      "The accuracy of Random Classifier Model is 0.90\n"
     ]
    }
   ],
   "source": [
    "from sklearn.ensemble import RandomForestClassifier\n",
    "rf = RandomForestClassifier(max_depth=10, random_state=0).fit(X_train, y_train)\n",
    "rf.score(X_test, y_test)\n",
    "\n",
    "print(\"The accuracy of Random Classifier Model is {:.2f}\".format(rf.score(X_test, y_test)))\n",
    "nameOfClassifiers.append(\"Random Classifier Model\")\n",
    "Accuracy.append(rf.score(X_test, y_test))"
   ]
  },
  {
   "cell_type": "markdown",
   "id": "aaf2bc30",
   "metadata": {},
   "source": [
    "# MLPClassifier"
   ]
  },
  {
   "cell_type": "code",
   "execution_count": 60,
   "id": "8c532ecd",
   "metadata": {},
   "outputs": [
    {
     "name": "stdout",
     "output_type": "stream",
     "text": [
      "The accuracy of MLP Classifier Model is 0.90\n"
     ]
    }
   ],
   "source": [
    "from sklearn.neural_network import MLPClassifier\n",
    "mlp = MLPClassifier(random_state=20, max_iter=100000, hidden_layer_sizes=16, activation='tanh').fit(X_train, y_train)\n",
    "mlp.score(X_test, y_test)\n",
    "\n",
    "print(\"The accuracy of MLP Classifier Model is {:.2f}\".format(mlp.score(X_test, y_test)))\n",
    "nameOfClassifiers.append(\"MLP Classifier Model\")\n",
    "Accuracy.append(mlp.score(X_test, y_test))"
   ]
  },
  {
   "cell_type": "markdown",
   "id": "a0a7b8ab",
   "metadata": {},
   "source": [
    "# DecisionTreeClassifier"
   ]
  },
  {
   "cell_type": "code",
   "execution_count": 60,
   "id": "44e75f02",
   "metadata": {},
   "outputs": [
    {
     "name": "stdout",
     "output_type": "stream",
     "text": [
      "The accuracy of DecisionTree Classifier Model is 1.00\n"
     ]
    }
   ],
   "source": [
    "from sklearn.tree import DecisionTreeClassifier\n",
    "DTC= DecisionTreeClassifier(criterion='entropy',max_depth=25)\n",
    "DTC.fit(X_test,y_test)\n",
    "\n",
    "print(\"The accuracy of DecisionTree Classifier Model is {:.2f}\".format(DTC.score(X_test, y_test)))\n",
    "nameOfClassifiers.append(\"DecisionTree Classifier Model\")\n",
    "Accuracy.append(DTC.score(X_test, y_test))"
   ]
  },
  {
   "cell_type": "markdown",
   "id": "160c0848",
   "metadata": {},
   "source": [
    "**Hence, for this classification problem I have used several classification algorithm. Among them, Logistic regression,  Randomforest classifier, MLP classifier has shown exactly the same accuracy, that is 90% where model loss is very low(10%). However, DecisionTree Classifier has best performed in this regard with 100% Accuracy.**"
   ]
  },
  {
   "cell_type": "code",
   "execution_count": 62,
   "id": "8421c918",
   "metadata": {},
   "outputs": [],
   "source": [
    "# Saving model \n",
    "\n",
    "import pickle \n",
    "pickle.dump(DTC, open('DTCmodel.pkl','wb'))\n",
    "\n",
    "# Loading model to compare the results\n",
    "model = pickle.load(open('DTCmodel.pkl','rb'))\n"
   ]
  },
  {
   "cell_type": "markdown",
   "id": "6e97a586",
   "metadata": {},
   "source": [
    "# Deployment on Flask"
   ]
  },
  {
   "cell_type": "code",
   "execution_count": 63,
   "id": "25071352",
   "metadata": {},
   "outputs": [],
   "source": [
    "import numpy as np\n",
    "from flask import Flask, request, jsonify, render_template\n",
    "import pickle\n",
    "\n",
    "app = Flask(__name__)\n",
    "model = pickle.load(open('DTCmodel.pkl', 'rb'))"
   ]
  },
  {
   "cell_type": "code",
   "execution_count": null,
   "id": "4ca4b16b",
   "metadata": {},
   "outputs": [],
   "source": []
  }
 ],
 "metadata": {
  "kernelspec": {
   "display_name": "Python 3 (ipykernel)",
   "language": "python",
   "name": "python3"
  },
  "language_info": {
   "codemirror_mode": {
    "name": "ipython",
    "version": 3
   },
   "file_extension": ".py",
   "mimetype": "text/x-python",
   "name": "python",
   "nbconvert_exporter": "python",
   "pygments_lexer": "ipython3",
   "version": "3.9.7"
  }
 },
 "nbformat": 4,
 "nbformat_minor": 5
}
